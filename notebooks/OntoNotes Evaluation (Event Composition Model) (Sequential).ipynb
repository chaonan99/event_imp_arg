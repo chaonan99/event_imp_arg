{
 "cells": [
  {
   "cell_type": "code",
   "execution_count": 1,
   "metadata": {},
   "outputs": [],
   "source": [
    "%load_ext autoreload\n",
    "%autoreload 2"
   ]
  },
  {
   "cell_type": "code",
   "execution_count": 2,
   "metadata": {},
   "outputs": [],
   "source": [
    "import sys\n",
    "from os.path import realpath\n",
    "sys.path.insert(0, realpath('../src'))"
   ]
  },
  {
   "cell_type": "markdown",
   "metadata": {},
   "source": [
    "## Load Datasets"
   ]
  },
  {
   "cell_type": "code",
   "execution_count": 3,
   "metadata": {},
   "outputs": [
    {
     "name": "stderr",
     "output_type": "stream",
     "text": [
      "2018-04-29 12:48:25,625 - INFO - 'pattern' package not found; tag filters are not available for English\n"
     ]
    }
   ],
   "source": [
    "from common.event_script import ScriptCorpus"
   ]
  },
  {
   "cell_type": "code",
   "execution_count": 4,
   "metadata": {},
   "outputs": [
    {
     "name": "stdout",
     "output_type": "stream",
     "text": [
      "Found 1027 scripts in OnShort dataset\n"
     ]
    }
   ],
   "source": [
    "with open('../data/ontonotes/on_short_scripts.txt', 'r') as fin:\n",
    "    on_short_scripts = ScriptCorpus.from_text(fin.read())\n",
    "print 'Found {} scripts in OnShort dataset'.format(on_short_scripts.num_scripts)"
   ]
  },
  {
   "cell_type": "code",
   "execution_count": 5,
   "metadata": {},
   "outputs": [
    {
     "name": "stdout",
     "output_type": "stream",
     "text": [
      "Found 597 scripts in OnLong dataset\n"
     ]
    }
   ],
   "source": [
    "with open('../data/ontonotes/on_long_scripts.txt', 'r') as fin:\n",
    "    on_long_scripts = ScriptCorpus.from_text(fin.read())\n",
    "print 'Found {} scripts in OnLong dataset'.format(on_long_scripts.num_scripts)"
   ]
  },
  {
   "cell_type": "markdown",
   "metadata": {},
   "source": [
    "## Create Evaluator"
   ]
  },
  {
   "cell_type": "code",
   "execution_count": 6,
   "metadata": {},
   "outputs": [
    {
     "name": "stderr",
     "output_type": "stream",
     "text": [
      "Using cuDNN version 7004 on context None\n",
      "Mapped name None to device cuda: GeForce GTX 1080 Ti (0000:01:00.0)\n"
     ]
    }
   ],
   "source": [
    "from evaluate.seq_event_comp_evaluator import SeqEventCompositionEvaluator\n",
    "\n",
    "evaluator = SeqEventCompositionEvaluator(\n",
    "    use_lemma=True, include_type=True, ignore_first_mention=False, filter_stop_events=True,\n",
    "    filter_repetitive_prep=True, use_max_score=True)"
   ]
  },
  {
   "cell_type": "markdown",
   "metadata": {},
   "source": [
    "## Evaluate Models on OnShort"
   ]
  },
  {
   "cell_type": "code",
   "execution_count": 7,
   "metadata": {},
   "outputs": [],
   "source": [
    "from model.event_comp import EventCompositionModel\n",
    "from os.path import join\n",
    "model_path_root = '/home/pengxiang/workspace/corpora/enwiki-20160901/event_comp_training/results'"
   ]
  },
  {
   "cell_type": "markdown",
   "metadata": {},
   "source": [
    "### Evaluate EventComp-8M"
   ]
  },
  {
   "cell_type": "code",
   "execution_count": 8,
   "metadata": {
    "scrolled": false
   },
   "outputs": [
    {
     "name": "stderr",
     "output_type": "stream",
     "text": [
      "2018-04-29 12:48:33,935 - INFO - loading word counts from /home/pengxiang/workspace/corpora/enwiki-20160901/event_comp_training/results/20170609/fine_tuning_full/iter_19/word2vec.vocab\n",
      "2018-04-29 12:48:34,066 - INFO - loading projection weights from /home/pengxiang/workspace/corpora/enwiki-20160901/event_comp_training/results/20170609/fine_tuning_full/iter_19/word2vec.bin\n",
      "2018-04-29 12:48:34,510 - INFO - loaded (53345, 300) matrix from /home/pengxiang/workspace/corpora/enwiki-20160901/event_comp_training/results/20170609/fine_tuning_full/iter_19/word2vec.bin\n",
      "2018-04-29 12:48:34,514 - INFO - precomputing L2-norms of word weight vectors\n",
      "2018-04-29 12:48:36,251 - INFO - set embedding model: word2vec\n",
      "2018-04-29 12:48:36,252 - INFO - evaluation based on event_composition (sequential), with embedding model word2vec\n",
      "2018-04-29 12:48:36,254 - INFO - embedding configs: use_lemma = True, include_type = True\n",
      "2018-04-29 12:48:36,255 - INFO - general configs: include_all_pobj = False, ignore_first_mention = False, filter_stop_events = True\n",
      "2018-04-29 12:48:36,256 - INFO - evaluator specific configs: use_max_score = True\n",
      "2018-04-29 12:48:36,257 - INFO - general configs: filter_repetitive_prep = True\n",
      "Processed: 100%|████████████████████████████████████████████████| 1027/1027 [01:37<00:00, 10.57it/s]"
     ]
    },
    {
     "name": "stdout",
     "output_type": "stream",
     "text": [
      "\n",
      "+-------------------------------------------------------------------------------+\n",
      "|                    # Cases     # Correct     Accuracy (%)      Avg # Choices  |\n",
      "+===============================================================================+\n",
      "|       All            7781         2612           33.57             25.70      |\n",
      "+-------------------------------------------------------------------------------+\n",
      "+-------------------------------------------------------------------------------+\n",
      "|    Arg Type        # Cases     # Correct     Accuracy (%)      Avg # Choices  |\n",
      "+===============================================================================+\n",
      "|      SUBJ            5080         1749           34.43             26.18      |\n",
      "|       OBJ            1681         592            35.22             24.13      |\n",
      "|      POBJ            1020         271            26.57             25.90      |\n",
      "+-------------------------------------------------------------------------------+\n",
      "+-------------------------------------------------------------------------------+\n",
      "|       POS          # Cases     # Correct     Accuracy (%)      Avg # Choices  |\n",
      "+===============================================================================+\n",
      "|      Noun            4662         1591           34.13             24.73      |\n",
      "|     Pronoun          2993         994            33.21             27.16      |\n",
      "|      Other           126           27            21.43             26.88      |\n",
      "+-------------------------------------------------------------------------------+\n",
      "+-------------------------------------------------------------------------------+\n",
      "|     Entity         # Cases     # Correct     Accuracy (%)      Avg # Choices  |\n",
      "|    Frequency                                                                  |\n",
      "+===============================================================================+\n",
      "|        1             3194         1072           33.56             20.45      |\n",
      "|        2             1582         580            36.66             22.35      |\n",
      "|        3             924          307            33.23             26.65      |\n",
      "|        4             557          173            31.06             28.76      |\n",
      "|        5             373          123            32.98             30.38      |\n",
      "|        6             261           78            29.89             32.49      |\n",
      "|        7             197           56            28.43             35.29      |\n",
      "|        8             153           46            30.07             37.10      |\n",
      "|        9             121           41            33.88             41.19      |\n",
      "|       10+            419          136            32.46             50.65      |\n",
      "+-------------------------------------------------------------------------------+\n"
     ]
    },
    {
     "name": "stderr",
     "output_type": "stream",
     "text": [
      "\n"
     ]
    }
   ],
   "source": [
    "evaluator.set_model(EventCompositionModel.load_model(\n",
    "    join(model_path_root, '20170609/fine_tuning_full/iter_19')))\n",
    "evaluator.evaluate(on_short_scripts.scripts)"
   ]
  },
  {
   "cell_type": "markdown",
   "metadata": {},
   "source": [
    "### Evaluate EventComp-8M + Entity Salience"
   ]
  },
  {
   "cell_type": "code",
   "execution_count": 9,
   "metadata": {
    "scrolled": false
   },
   "outputs": [
    {
     "name": "stderr",
     "output_type": "stream",
     "text": [
      "2018-04-29 12:50:13,450 - INFO - loading word counts from /home/pengxiang/workspace/corpora/enwiki-20160901/event_comp_training/results/20170519/fine_tuning_full/iter_13/word2vec.vocab\n",
      "2018-04-29 12:50:13,539 - INFO - loading projection weights from /home/pengxiang/workspace/corpora/enwiki-20160901/event_comp_training/results/20170519/fine_tuning_full/iter_13/word2vec.bin\n",
      "2018-04-29 12:50:13,987 - INFO - loaded (53345, 300) matrix from /home/pengxiang/workspace/corpora/enwiki-20160901/event_comp_training/results/20170519/fine_tuning_full/iter_13/word2vec.bin\n",
      "2018-04-29 12:50:13,991 - INFO - precomputing L2-norms of word weight vectors\n",
      "2018-04-29 12:50:14,432 - INFO - set embedding model: word2vec\n",
      "2018-04-29 12:50:14,449 - INFO - evaluation based on event_composition (sequential), with embedding model word2vec\n",
      "2018-04-29 12:50:14,451 - INFO - embedding configs: use_lemma = True, include_type = True\n",
      "2018-04-29 12:50:14,452 - INFO - general configs: include_all_pobj = False, ignore_first_mention = False, filter_stop_events = True\n",
      "2018-04-29 12:50:14,453 - INFO - evaluator specific configs: use_max_score = True\n",
      "2018-04-29 12:50:14,454 - INFO - general configs: filter_repetitive_prep = True\n",
      "Processed: 100%|████████████████████████████████████████████████| 1027/1027 [01:42<00:00, 10.02it/s]"
     ]
    },
    {
     "name": "stdout",
     "output_type": "stream",
     "text": [
      "\n",
      "+-------------------------------------------------------------------------------+\n",
      "|                    # Cases     # Correct     Accuracy (%)      Avg # Choices  |\n",
      "+===============================================================================+\n",
      "|       All            7781         3145           40.42             25.70      |\n",
      "+-------------------------------------------------------------------------------+\n",
      "+-------------------------------------------------------------------------------+\n",
      "|    Arg Type        # Cases     # Correct     Accuracy (%)      Avg # Choices  |\n",
      "+===============================================================================+\n",
      "|      SUBJ            5080         2172           42.76             26.18      |\n",
      "|       OBJ            1681         691            41.11             24.13      |\n",
      "|      POBJ            1020         282            27.65             25.90      |\n",
      "+-------------------------------------------------------------------------------+\n",
      "+-------------------------------------------------------------------------------+\n",
      "|       POS          # Cases     # Correct     Accuracy (%)      Avg # Choices  |\n",
      "+===============================================================================+\n",
      "|      Noun            4662         1822           39.08             24.73      |\n",
      "|     Pronoun          2993         1297           43.33             27.16      |\n",
      "|      Other           126           26            20.63             26.88      |\n",
      "+-------------------------------------------------------------------------------+\n",
      "+-------------------------------------------------------------------------------+\n",
      "|     Entity         # Cases     # Correct     Accuracy (%)      Avg # Choices  |\n",
      "|    Frequency                                                                  |\n",
      "+===============================================================================+\n",
      "|        1             3194         897            28.08             20.45      |\n",
      "|        2             1582         646            40.83             22.35      |\n",
      "|        3             924          434            46.97             26.65      |\n",
      "|        4             557          271            48.65             28.76      |\n",
      "|        5             373          195            52.28             30.38      |\n",
      "|        6             261          148            56.70             32.49      |\n",
      "|        7             197          112            56.85             35.29      |\n",
      "|        8             153           88            57.52             37.10      |\n",
      "|        9             121           78            64.46             41.19      |\n",
      "|       10+            419          276            65.87             50.65      |\n",
      "+-------------------------------------------------------------------------------+\n"
     ]
    },
    {
     "name": "stderr",
     "output_type": "stream",
     "text": [
      "\n"
     ]
    }
   ],
   "source": [
    "evaluator.set_model(EventCompositionModel.load_model(\n",
    "    join(model_path_root, '20170519/fine_tuning_full/iter_13')))\n",
    "evaluator.evaluate(on_short_scripts.scripts)"
   ]
  },
  {
   "cell_type": "markdown",
   "metadata": {},
   "source": [
    "### Evaluate EventComp-40M"
   ]
  },
  {
   "cell_type": "code",
   "execution_count": 10,
   "metadata": {
    "scrolled": false
   },
   "outputs": [
    {
     "name": "stderr",
     "output_type": "stream",
     "text": [
      "2018-04-29 12:51:56,974 - INFO - loading word counts from /home/pengxiang/workspace/corpora/enwiki-20160901/event_comp_training/results/20170611/fine_tuning_full/iter_19/word2vec.vocab\n",
      "2018-04-29 12:51:57,062 - INFO - loading projection weights from /home/pengxiang/workspace/corpora/enwiki-20160901/event_comp_training/results/20170611/fine_tuning_full/iter_19/word2vec.bin\n",
      "2018-04-29 12:51:57,702 - INFO - loaded (53345, 300) matrix from /home/pengxiang/workspace/corpora/enwiki-20160901/event_comp_training/results/20170611/fine_tuning_full/iter_19/word2vec.bin\n",
      "2018-04-29 12:51:57,705 - INFO - precomputing L2-norms of word weight vectors\n",
      "2018-04-29 12:51:58,152 - INFO - set embedding model: word2vec\n",
      "2018-04-29 12:51:58,169 - INFO - evaluation based on event_composition (sequential), with embedding model word2vec\n",
      "2018-04-29 12:51:58,170 - INFO - embedding configs: use_lemma = True, include_type = True\n",
      "2018-04-29 12:51:58,171 - INFO - general configs: include_all_pobj = False, ignore_first_mention = False, filter_stop_events = True\n",
      "2018-04-29 12:51:58,172 - INFO - evaluator specific configs: use_max_score = True\n",
      "2018-04-29 12:51:58,174 - INFO - general configs: filter_repetitive_prep = True\n",
      "Processed: 100%|████████████████████████████████████████████████| 1027/1027 [01:37<00:00, 10.48it/s]"
     ]
    },
    {
     "name": "stdout",
     "output_type": "stream",
     "text": [
      "\n",
      "+-------------------------------------------------------------------------------+\n",
      "|                    # Cases     # Correct     Accuracy (%)      Avg # Choices  |\n",
      "+===============================================================================+\n",
      "|       All            7781         2963           38.08             25.70      |\n",
      "+-------------------------------------------------------------------------------+\n",
      "+-------------------------------------------------------------------------------+\n",
      "|    Arg Type        # Cases     # Correct     Accuracy (%)      Avg # Choices  |\n",
      "+===============================================================================+\n",
      "|      SUBJ            5080         2015           39.67             26.18      |\n",
      "|       OBJ            1681         655            38.96             24.13      |\n",
      "|      POBJ            1020         293            28.73             25.90      |\n",
      "+-------------------------------------------------------------------------------+\n",
      "+-------------------------------------------------------------------------------+\n",
      "|       POS          # Cases     # Correct     Accuracy (%)      Avg # Choices  |\n",
      "+===============================================================================+\n",
      "|      Noun            4662         1833           39.32             24.73      |\n",
      "|     Pronoun          2993         1095           36.59             27.16      |\n",
      "|      Other           126           35            27.78             26.88      |\n",
      "+-------------------------------------------------------------------------------+\n",
      "+-------------------------------------------------------------------------------+\n",
      "|     Entity         # Cases     # Correct     Accuracy (%)      Avg # Choices  |\n",
      "|    Frequency                                                                  |\n",
      "+===============================================================================+\n",
      "|        1             3194         1142           35.75             20.45      |\n",
      "|        2             1582         617            39.00             22.35      |\n",
      "|        3             924          353            38.20             26.65      |\n",
      "|        4             557          218            39.14             28.76      |\n",
      "|        5             373          152            40.75             30.38      |\n",
      "|        6             261          107            41.00             32.49      |\n",
      "|        7             197           72            36.55             35.29      |\n",
      "|        8             153           61            39.87             37.10      |\n",
      "|        9             121           53            43.80             41.19      |\n",
      "|       10+            419          188            44.87             50.65      |\n",
      "+-------------------------------------------------------------------------------+\n"
     ]
    },
    {
     "name": "stderr",
     "output_type": "stream",
     "text": [
      "\n"
     ]
    }
   ],
   "source": [
    "evaluator.set_model(EventCompositionModel.load_model(\n",
    "    join(model_path_root, '20170611/fine_tuning_full/iter_19')))\n",
    "evaluator.evaluate(on_short_scripts.scripts)"
   ]
  },
  {
   "cell_type": "markdown",
   "metadata": {},
   "source": [
    "### Evaluate EventComp-40M + Entity Salience"
   ]
  },
  {
   "cell_type": "code",
   "execution_count": 11,
   "metadata": {
    "scrolled": false
   },
   "outputs": [
    {
     "name": "stderr",
     "output_type": "stream",
     "text": [
      "2018-04-29 12:53:36,190 - INFO - loading word counts from /home/pengxiang/workspace/corpora/enwiki-20160901/event_comp_training/results/20170530/fine_tuning_full/iter_19/word2vec.vocab\n",
      "2018-04-29 12:53:36,278 - INFO - loading projection weights from /home/pengxiang/workspace/corpora/enwiki-20160901/event_comp_training/results/20170530/fine_tuning_full/iter_19/word2vec.bin\n",
      "2018-04-29 12:53:36,729 - INFO - loaded (53345, 300) matrix from /home/pengxiang/workspace/corpora/enwiki-20160901/event_comp_training/results/20170530/fine_tuning_full/iter_19/word2vec.bin\n",
      "2018-04-29 12:53:36,733 - INFO - precomputing L2-norms of word weight vectors\n",
      "2018-04-29 12:53:37,180 - INFO - set embedding model: word2vec\n",
      "2018-04-29 12:53:37,197 - INFO - evaluation based on event_composition (sequential), with embedding model word2vec\n",
      "2018-04-29 12:53:37,198 - INFO - embedding configs: use_lemma = True, include_type = True\n",
      "2018-04-29 12:53:37,199 - INFO - general configs: include_all_pobj = False, ignore_first_mention = False, filter_stop_events = True\n",
      "2018-04-29 12:53:37,200 - INFO - evaluator specific configs: use_max_score = True\n",
      "2018-04-29 12:53:37,201 - INFO - general configs: filter_repetitive_prep = True\n",
      "Processed: 100%|████████████████████████████████████████████████| 1027/1027 [01:45<00:00,  9.70it/s]"
     ]
    },
    {
     "name": "stdout",
     "output_type": "stream",
     "text": [
      "\n",
      "+-------------------------------------------------------------------------------+\n",
      "|                    # Cases     # Correct     Accuracy (%)      Avg # Choices  |\n",
      "+===============================================================================+\n",
      "|       All            7781         3319           42.66             25.70      |\n",
      "+-------------------------------------------------------------------------------+\n",
      "+-------------------------------------------------------------------------------+\n",
      "|    Arg Type        # Cases     # Correct     Accuracy (%)      Avg # Choices  |\n",
      "+===============================================================================+\n",
      "|      SUBJ            5080         2270           44.69             26.18      |\n",
      "|       OBJ            1681         727            43.25             24.13      |\n",
      "|      POBJ            1020         322            31.57             25.90      |\n",
      "+-------------------------------------------------------------------------------+\n",
      "+-------------------------------------------------------------------------------+\n",
      "|       POS          # Cases     # Correct     Accuracy (%)      Avg # Choices  |\n",
      "+===============================================================================+\n",
      "|      Noun            4662         1954           41.91             24.73      |\n",
      "|     Pronoun          2993         1332           44.50             27.16      |\n",
      "|      Other           126           33            26.19             26.88      |\n",
      "+-------------------------------------------------------------------------------+\n",
      "+-------------------------------------------------------------------------------+\n",
      "|     Entity         # Cases     # Correct     Accuracy (%)      Avg # Choices  |\n",
      "|    Frequency                                                                  |\n",
      "+===============================================================================+\n",
      "|        1             3194         1013           31.72             20.45      |\n",
      "|        2             1582         656            41.47             22.35      |\n",
      "|        3             924          441            47.73             26.65      |\n",
      "|        4             557          293            52.60             28.76      |\n",
      "|        5             373          215            57.64             30.38      |\n",
      "|        6             261          145            55.56             32.49      |\n",
      "|        7             197          113            57.36             35.29      |\n",
      "|        8             153           89            58.17             37.10      |\n",
      "|        9             121           78            64.46             41.19      |\n",
      "|       10+            419          276            65.87             50.65      |\n",
      "+-------------------------------------------------------------------------------+\n"
     ]
    },
    {
     "name": "stderr",
     "output_type": "stream",
     "text": [
      "\n"
     ]
    }
   ],
   "source": [
    "evaluator.set_model(EventCompositionModel.load_model(\n",
    "    join(model_path_root, '20170530/fine_tuning_full/iter_19')))\n",
    "evaluator.evaluate(on_short_scripts.scripts)"
   ]
  },
  {
   "cell_type": "markdown",
   "metadata": {},
   "source": [
    "### Evaluate EventComp-5M (New)"
   ]
  },
  {
   "cell_type": "code",
   "execution_count": 12,
   "metadata": {},
   "outputs": [
    {
     "name": "stderr",
     "output_type": "stream",
     "text": [
      "2018-04-29 12:55:23,139 - INFO - loading word counts from /home/pengxiang/workspace/corpora/enwiki-20160901/event_comp_training/results/20180426_1/fine_tuning_full/word2vec.vocab\n",
      "2018-04-29 12:55:23,229 - INFO - loading projection weights from /home/pengxiang/workspace/corpora/enwiki-20160901/event_comp_training/results/20180426_1/fine_tuning_full/word2vec.bin\n",
      "2018-04-29 12:55:23,677 - INFO - loaded (53345, 300) matrix from /home/pengxiang/workspace/corpora/enwiki-20160901/event_comp_training/results/20180426_1/fine_tuning_full/word2vec.bin\n",
      "2018-04-29 12:55:23,681 - INFO - precomputing L2-norms of word weight vectors\n",
      "2018-04-29 12:55:24,124 - INFO - set embedding model: word2vec\n",
      "2018-04-29 12:55:24,141 - INFO - evaluation based on event_composition (sequential), with embedding model word2vec\n",
      "2018-04-29 12:55:24,142 - INFO - embedding configs: use_lemma = True, include_type = True\n",
      "2018-04-29 12:55:24,144 - INFO - general configs: include_all_pobj = False, ignore_first_mention = False, filter_stop_events = True\n",
      "2018-04-29 12:55:24,145 - INFO - evaluator specific configs: use_max_score = True\n",
      "2018-04-29 12:55:24,146 - INFO - general configs: filter_repetitive_prep = True\n",
      "Processed: 100%|████████████████████████████████████████████████| 1027/1027 [01:39<00:00, 10.28it/s]"
     ]
    },
    {
     "name": "stdout",
     "output_type": "stream",
     "text": [
      "\n",
      "+-------------------------------------------------------------------------------+\n",
      "|                    # Cases     # Correct     Accuracy (%)      Avg # Choices  |\n",
      "+===============================================================================+\n",
      "|       All            7781         2596           33.36             25.70      |\n",
      "+-------------------------------------------------------------------------------+\n",
      "+-------------------------------------------------------------------------------+\n",
      "|    Arg Type        # Cases     # Correct     Accuracy (%)      Avg # Choices  |\n",
      "+===============================================================================+\n",
      "|      SUBJ            5080         1767           34.78             26.18      |\n",
      "|       OBJ            1681         555            33.02             24.13      |\n",
      "|      POBJ            1020         274            26.86             25.90      |\n",
      "+-------------------------------------------------------------------------------+\n",
      "+-------------------------------------------------------------------------------+\n",
      "|       POS          # Cases     # Correct     Accuracy (%)      Avg # Choices  |\n",
      "+===============================================================================+\n",
      "|      Noun            4662         1594           34.19             24.73      |\n",
      "|     Pronoun          2993         987            32.98             27.16      |\n",
      "|      Other           126           15            11.90             26.88      |\n",
      "+-------------------------------------------------------------------------------+\n",
      "+-------------------------------------------------------------------------------+\n",
      "|     Entity         # Cases     # Correct     Accuracy (%)      Avg # Choices  |\n",
      "|    Frequency                                                                  |\n",
      "+===============================================================================+\n",
      "|        1             3194         1023           32.03             20.45      |\n",
      "|        2             1582         572            36.16             22.35      |\n",
      "|        3             924          333            36.04             26.65      |\n",
      "|        4             557          183            32.85             28.76      |\n",
      "|        5             373          131            35.12             30.38      |\n",
      "|        6             261           95            36.40             32.49      |\n",
      "|        7             197           56            28.43             35.29      |\n",
      "|        8             153           54            35.29             37.10      |\n",
      "|        9             121           33            27.27             41.19      |\n",
      "|       10+            419          116            27.68             50.65      |\n",
      "+-------------------------------------------------------------------------------+\n"
     ]
    },
    {
     "name": "stderr",
     "output_type": "stream",
     "text": [
      "\n"
     ]
    }
   ],
   "source": [
    "evaluator.set_model(EventCompositionModel.load_model(\n",
    "    join(model_path_root, '20180426_1/fine_tuning_full')))\n",
    "evaluator.evaluate(on_short_scripts.scripts)"
   ]
  },
  {
   "cell_type": "markdown",
   "metadata": {},
   "source": [
    "### Evaluate EventComp-5M + Entity Salience (New)"
   ]
  },
  {
   "cell_type": "code",
   "execution_count": 13,
   "metadata": {},
   "outputs": [
    {
     "name": "stderr",
     "output_type": "stream",
     "text": [
      "2018-04-29 12:57:04,029 - INFO - loading word counts from /home/pengxiang/workspace/corpora/enwiki-20160901/event_comp_training/results/20180426_2/fine_tuning_full/word2vec.vocab\n",
      "2018-04-29 12:57:04,252 - INFO - loading projection weights from /home/pengxiang/workspace/corpora/enwiki-20160901/event_comp_training/results/20180426_2/fine_tuning_full/word2vec.bin\n",
      "2018-04-29 12:57:05,094 - INFO - loaded (53345, 300) matrix from /home/pengxiang/workspace/corpora/enwiki-20160901/event_comp_training/results/20180426_2/fine_tuning_full/word2vec.bin\n",
      "2018-04-29 12:57:05,098 - INFO - precomputing L2-norms of word weight vectors\n",
      "2018-04-29 12:57:05,771 - INFO - set embedding model: word2vec\n",
      "2018-04-29 12:57:05,788 - INFO - evaluation based on event_composition (sequential), with embedding model word2vec\n",
      "2018-04-29 12:57:05,789 - INFO - embedding configs: use_lemma = True, include_type = True\n",
      "2018-04-29 12:57:05,790 - INFO - general configs: include_all_pobj = False, ignore_first_mention = False, filter_stop_events = True\n",
      "2018-04-29 12:57:05,791 - INFO - evaluator specific configs: use_max_score = True\n",
      "2018-04-29 12:57:05,792 - INFO - general configs: filter_repetitive_prep = True\n",
      "Processed: 100%|████████████████████████████████████████████████| 1027/1027 [01:42<00:00, 10.00it/s]"
     ]
    },
    {
     "name": "stdout",
     "output_type": "stream",
     "text": [
      "\n",
      "+-------------------------------------------------------------------------------+\n",
      "|                    # Cases     # Correct     Accuracy (%)      Avg # Choices  |\n",
      "+===============================================================================+\n",
      "|       All            7781         3317           42.63             25.70      |\n",
      "+-------------------------------------------------------------------------------+\n",
      "+-------------------------------------------------------------------------------+\n",
      "|    Arg Type        # Cases     # Correct     Accuracy (%)      Avg # Choices  |\n",
      "+===============================================================================+\n",
      "|      SUBJ            5080         2301           45.30             26.18      |\n",
      "|       OBJ            1681         683            40.63             24.13      |\n",
      "|      POBJ            1020         333            32.65             25.90      |\n",
      "+-------------------------------------------------------------------------------+\n",
      "+-------------------------------------------------------------------------------+\n",
      "|       POS          # Cases     # Correct     Accuracy (%)      Avg # Choices  |\n",
      "+===============================================================================+\n",
      "|      Noun            4662         1906           40.88             24.73      |\n",
      "|     Pronoun          2993         1384           46.24             27.16      |\n",
      "|      Other           126           27            21.43             26.88      |\n",
      "+-------------------------------------------------------------------------------+\n",
      "+-------------------------------------------------------------------------------+\n",
      "|     Entity         # Cases     # Correct     Accuracy (%)      Avg # Choices  |\n",
      "|    Frequency                                                                  |\n",
      "+===============================================================================+\n",
      "|        1             3194         675            21.13             20.45      |\n",
      "|        2             1582         790            49.94             22.35      |\n",
      "|        3             924          492            53.25             26.65      |\n",
      "|        4             557          313            56.19             28.76      |\n",
      "|        5             373          231            61.93             30.38      |\n",
      "|        6             261          168            64.37             32.49      |\n",
      "|        7             197          133            67.51             35.29      |\n",
      "|        8             153          107            69.93             37.10      |\n",
      "|        9             121           88            72.73             41.19      |\n",
      "|       10+            419          320            76.37             50.65      |\n",
      "+-------------------------------------------------------------------------------+\n"
     ]
    },
    {
     "name": "stderr",
     "output_type": "stream",
     "text": [
      "\n"
     ]
    }
   ],
   "source": [
    "evaluator.set_model(EventCompositionModel.load_model(\n",
    "    join(model_path_root, '20180426_2/fine_tuning_full')))\n",
    "evaluator.evaluate(on_short_scripts.scripts)"
   ]
  },
  {
   "cell_type": "markdown",
   "metadata": {},
   "source": [
    "### Evaluate EventComp-25M (New)"
   ]
  },
  {
   "cell_type": "code",
   "execution_count": 14,
   "metadata": {},
   "outputs": [
    {
     "name": "stderr",
     "output_type": "stream",
     "text": [
      "2018-04-29 12:58:48,535 - INFO - loading word counts from /home/pengxiang/workspace/corpora/enwiki-20160901/event_comp_training/results/20180426_3/fine_tuning_full/word2vec.vocab\n",
      "2018-04-29 12:58:48,622 - INFO - loading projection weights from /home/pengxiang/workspace/corpora/enwiki-20160901/event_comp_training/results/20180426_3/fine_tuning_full/word2vec.bin\n",
      "2018-04-29 12:58:49,072 - INFO - loaded (53345, 300) matrix from /home/pengxiang/workspace/corpora/enwiki-20160901/event_comp_training/results/20180426_3/fine_tuning_full/word2vec.bin\n",
      "2018-04-29 12:58:49,076 - INFO - precomputing L2-norms of word weight vectors\n",
      "2018-04-29 12:58:49,517 - INFO - set embedding model: word2vec\n",
      "2018-04-29 12:58:49,535 - INFO - evaluation based on event_composition (sequential), with embedding model word2vec\n",
      "2018-04-29 12:58:49,536 - INFO - embedding configs: use_lemma = True, include_type = True\n",
      "2018-04-29 12:58:49,538 - INFO - general configs: include_all_pobj = False, ignore_first_mention = False, filter_stop_events = True\n",
      "2018-04-29 12:58:49,539 - INFO - evaluator specific configs: use_max_score = True\n",
      "2018-04-29 12:58:49,540 - INFO - general configs: filter_repetitive_prep = True\n",
      "Processed: 100%|████████████████████████████████████████████████| 1027/1027 [01:37<00:00, 10.53it/s]"
     ]
    },
    {
     "name": "stdout",
     "output_type": "stream",
     "text": [
      "\n",
      "+-------------------------------------------------------------------------------+\n",
      "|                    # Cases     # Correct     Accuracy (%)      Avg # Choices  |\n",
      "+===============================================================================+\n",
      "|       All            7781         2871           36.90             25.70      |\n",
      "+-------------------------------------------------------------------------------+\n",
      "+-------------------------------------------------------------------------------+\n",
      "|    Arg Type        # Cases     # Correct     Accuracy (%)      Avg # Choices  |\n",
      "+===============================================================================+\n",
      "|      SUBJ            5080         1896           37.32             26.18      |\n",
      "|       OBJ            1681         696            41.40             24.13      |\n",
      "|      POBJ            1020         279            27.35             25.90      |\n",
      "+-------------------------------------------------------------------------------+\n",
      "+-------------------------------------------------------------------------------+\n",
      "|       POS          # Cases     # Correct     Accuracy (%)      Avg # Choices  |\n",
      "+===============================================================================+\n",
      "|      Noun            4662         1773           38.03             24.73      |\n",
      "|     Pronoun          2993         1075           35.92             27.16      |\n",
      "|      Other           126           23            18.25             26.88      |\n",
      "+-------------------------------------------------------------------------------+\n",
      "+-------------------------------------------------------------------------------+\n",
      "|     Entity         # Cases     # Correct     Accuracy (%)      Avg # Choices  |\n",
      "|    Frequency                                                                  |\n",
      "+===============================================================================+\n",
      "|        1             3194         1121           35.10             20.45      |\n",
      "|        2             1582         629            39.76             22.35      |\n",
      "|        3             924          346            37.45             26.65      |\n",
      "|        4             557          213            38.24             28.76      |\n",
      "|        5             373          146            39.14             30.38      |\n",
      "|        6             261          100            38.31             32.49      |\n",
      "|        7             197           69            35.03             35.29      |\n",
      "|        8             153           58            37.91             37.10      |\n",
      "|        9             121           50            41.32             41.19      |\n",
      "|       10+            419          139            33.17             50.65      |\n",
      "+-------------------------------------------------------------------------------+\n"
     ]
    },
    {
     "name": "stderr",
     "output_type": "stream",
     "text": [
      "\n"
     ]
    }
   ],
   "source": [
    "evaluator.set_model(EventCompositionModel.load_model(\n",
    "    join(model_path_root, '20180426_3/fine_tuning_full')))\n",
    "evaluator.evaluate(on_short_scripts.scripts)"
   ]
  },
  {
   "cell_type": "markdown",
   "metadata": {},
   "source": [
    "### Evaluate EventComp-25M + Entity Salience (New)"
   ]
  },
  {
   "cell_type": "code",
   "execution_count": 15,
   "metadata": {},
   "outputs": [
    {
     "name": "stderr",
     "output_type": "stream",
     "text": [
      "2018-04-29 13:00:27,095 - INFO - loading word counts from /home/pengxiang/workspace/corpora/enwiki-20160901/event_comp_training/results/20180426_4/fine_tuning_full/word2vec.vocab\n",
      "2018-04-29 13:00:27,183 - INFO - loading projection weights from /home/pengxiang/workspace/corpora/enwiki-20160901/event_comp_training/results/20180426_4/fine_tuning_full/word2vec.bin\n",
      "2018-04-29 13:00:27,631 - INFO - loaded (53345, 300) matrix from /home/pengxiang/workspace/corpora/enwiki-20160901/event_comp_training/results/20180426_4/fine_tuning_full/word2vec.bin\n",
      "2018-04-29 13:00:27,635 - INFO - precomputing L2-norms of word weight vectors\n",
      "2018-04-29 13:00:28,074 - INFO - set embedding model: word2vec\n",
      "2018-04-29 13:00:28,091 - INFO - evaluation based on event_composition (sequential), with embedding model word2vec\n",
      "2018-04-29 13:00:28,092 - INFO - embedding configs: use_lemma = True, include_type = True\n",
      "2018-04-29 13:00:28,094 - INFO - general configs: include_all_pobj = False, ignore_first_mention = False, filter_stop_events = True\n",
      "2018-04-29 13:00:28,095 - INFO - evaluator specific configs: use_max_score = True\n",
      "2018-04-29 13:00:28,096 - INFO - general configs: filter_repetitive_prep = True\n",
      "Processed: 100%|████████████████████████████████████████████████| 1027/1027 [01:42<00:00, 10.01it/s]"
     ]
    },
    {
     "name": "stdout",
     "output_type": "stream",
     "text": [
      "\n",
      "+-------------------------------------------------------------------------------+\n",
      "|                    # Cases     # Correct     Accuracy (%)      Avg # Choices  |\n",
      "+===============================================================================+\n",
      "|       All            7781         3584           46.06             25.70      |\n",
      "+-------------------------------------------------------------------------------+\n",
      "+-------------------------------------------------------------------------------+\n",
      "|    Arg Type        # Cases     # Correct     Accuracy (%)      Avg # Choices  |\n",
      "+===============================================================================+\n",
      "|      SUBJ            5080         2453           48.29             26.18      |\n",
      "|       OBJ            1681         784            46.64             24.13      |\n",
      "|      POBJ            1020         347            34.02             25.90      |\n",
      "+-------------------------------------------------------------------------------+\n",
      "+-------------------------------------------------------------------------------+\n",
      "|       POS          # Cases     # Correct     Accuracy (%)      Avg # Choices  |\n",
      "+===============================================================================+\n",
      "|      Noun            4662         2108           45.22             24.73      |\n",
      "|     Pronoun          2993         1444           48.25             27.16      |\n",
      "|      Other           126           32            25.40             26.88      |\n",
      "+-------------------------------------------------------------------------------+\n",
      "+-------------------------------------------------------------------------------+\n",
      "|     Entity         # Cases     # Correct     Accuracy (%)      Avg # Choices  |\n",
      "|    Frequency                                                                  |\n",
      "+===============================================================================+\n",
      "|        1             3194         824            25.80             20.45      |\n",
      "|        2             1582         844            53.35             22.35      |\n",
      "|        3             924          511            55.30             26.65      |\n",
      "|        4             557          333            59.78             28.76      |\n",
      "|        5             373          250            67.02             30.38      |\n",
      "|        6             261          170            65.13             32.49      |\n",
      "|        7             197          132            67.01             35.29      |\n",
      "|        8             153          110            71.90             37.10      |\n",
      "|        9             121           92            76.03             41.19      |\n",
      "|       10+            419          318            75.89             50.65      |\n",
      "+-------------------------------------------------------------------------------+\n"
     ]
    },
    {
     "name": "stderr",
     "output_type": "stream",
     "text": [
      "\n"
     ]
    }
   ],
   "source": [
    "evaluator.set_model(EventCompositionModel.load_model(\n",
    "    join(model_path_root, '20180426_4/fine_tuning_full')))\n",
    "evaluator.evaluate(on_short_scripts.scripts)"
   ]
  },
  {
   "cell_type": "markdown",
   "metadata": {},
   "source": [
    "## Evaluate Models on OnLong"
   ]
  },
  {
   "cell_type": "markdown",
   "metadata": {},
   "source": [
    "### Evaluate EventComp-8M"
   ]
  },
  {
   "cell_type": "code",
   "execution_count": 16,
   "metadata": {
    "scrolled": false
   },
   "outputs": [
    {
     "name": "stderr",
     "output_type": "stream",
     "text": [
      "2018-04-29 13:02:10,688 - INFO - loading word counts from /home/pengxiang/workspace/corpora/enwiki-20160901/event_comp_training/results/20170609/fine_tuning_full/iter_19/word2vec.vocab\n",
      "2018-04-29 13:02:10,776 - INFO - loading projection weights from /home/pengxiang/workspace/corpora/enwiki-20160901/event_comp_training/results/20170609/fine_tuning_full/iter_19/word2vec.bin\n",
      "2018-04-29 13:02:11,226 - INFO - loaded (53345, 300) matrix from /home/pengxiang/workspace/corpora/enwiki-20160901/event_comp_training/results/20170609/fine_tuning_full/iter_19/word2vec.bin\n",
      "2018-04-29 13:02:11,230 - INFO - precomputing L2-norms of word weight vectors\n",
      "2018-04-29 13:02:11,671 - INFO - set embedding model: word2vec\n",
      "2018-04-29 13:02:11,691 - INFO - evaluation based on event_composition (sequential), with embedding model word2vec\n",
      "2018-04-29 13:02:11,692 - INFO - embedding configs: use_lemma = True, include_type = True\n",
      "2018-04-29 13:02:11,693 - INFO - general configs: include_all_pobj = False, ignore_first_mention = False, filter_stop_events = True\n",
      "2018-04-29 13:02:11,695 - INFO - evaluator specific configs: use_max_score = True\n",
      "2018-04-29 13:02:11,696 - INFO - general configs: filter_repetitive_prep = True\n",
      "Processed: 100%|██████████████████████████████████████████████████| 597/597 [06:39<00:00,  1.49it/s]"
     ]
    },
    {
     "name": "stdout",
     "output_type": "stream",
     "text": [
      "\n",
      "+-------------------------------------------------------------------------------+\n",
      "|                    # Cases     # Correct     Accuracy (%)      Avg # Choices  |\n",
      "+===============================================================================+\n",
      "|       All           10539         2112           20.04             70.63      |\n",
      "+-------------------------------------------------------------------------------+\n",
      "+-------------------------------------------------------------------------------+\n",
      "|    Arg Type        # Cases     # Correct     Accuracy (%)      Avg # Choices  |\n",
      "+===============================================================================+\n",
      "|      SUBJ            7605         1706           22.43             70.84      |\n",
      "|       OBJ            2036         273            13.41             69.11      |\n",
      "|      POBJ            898          133            14.81             72.34      |\n",
      "+-------------------------------------------------------------------------------+\n",
      "+-------------------------------------------------------------------------------+\n",
      "|       POS          # Cases     # Correct     Accuracy (%)      Avg # Choices  |\n",
      "+===============================================================================+\n",
      "|      Noun            6685         1325           19.82             67.28      |\n",
      "|     Pronoun          3721         762            20.48             76.75      |\n",
      "|      Other           133           25            18.80             67.85      |\n",
      "+-------------------------------------------------------------------------------+\n",
      "+-------------------------------------------------------------------------------+\n",
      "|     Entity         # Cases     # Correct     Accuracy (%)      Avg # Choices  |\n",
      "|    Frequency                                                                  |\n",
      "+===============================================================================+\n",
      "|        1             4144         731            17.64             64.64      |\n",
      "|        2             1992         396            19.88             65.59      |\n",
      "|        3             1131         244            21.57             65.70      |\n",
      "|        4             683          173            25.33             65.44      |\n",
      "|        5             468          112            23.93             63.81      |\n",
      "|        6             345           78            22.61             66.60      |\n",
      "|        7             259           54            20.85             69.13      |\n",
      "|        8             212           46            21.70             73.67      |\n",
      "|        9             164           34            20.73             76.12      |\n",
      "|       10+            1141         244            21.38            112.21      |\n",
      "+-------------------------------------------------------------------------------+\n"
     ]
    },
    {
     "name": "stderr",
     "output_type": "stream",
     "text": [
      "\n"
     ]
    }
   ],
   "source": [
    "evaluator.set_model(EventCompositionModel.load_model(\n",
    "    join(model_path_root, '20170609/fine_tuning_full/iter_19')))\n",
    "evaluator.evaluate(on_long_scripts.scripts)"
   ]
  },
  {
   "cell_type": "markdown",
   "metadata": {},
   "source": [
    "### Evaluate EventComp-8M + Entity Salience"
   ]
  },
  {
   "cell_type": "code",
   "execution_count": 17,
   "metadata": {
    "scrolled": false
   },
   "outputs": [
    {
     "name": "stderr",
     "output_type": "stream",
     "text": [
      "2018-04-29 13:08:51,172 - INFO - loading word counts from /home/pengxiang/workspace/corpora/enwiki-20160901/event_comp_training/results/20170519/fine_tuning_full/iter_13/word2vec.vocab\n",
      "2018-04-29 13:08:51,260 - INFO - loading projection weights from /home/pengxiang/workspace/corpora/enwiki-20160901/event_comp_training/results/20170519/fine_tuning_full/iter_13/word2vec.bin\n",
      "2018-04-29 13:08:51,705 - INFO - loaded (53345, 300) matrix from /home/pengxiang/workspace/corpora/enwiki-20160901/event_comp_training/results/20170519/fine_tuning_full/iter_13/word2vec.bin\n",
      "2018-04-29 13:08:51,709 - INFO - precomputing L2-norms of word weight vectors\n",
      "2018-04-29 13:08:52,156 - INFO - set embedding model: word2vec\n",
      "2018-04-29 13:08:52,172 - INFO - evaluation based on event_composition (sequential), with embedding model word2vec\n",
      "2018-04-29 13:08:52,174 - INFO - embedding configs: use_lemma = True, include_type = True\n",
      "2018-04-29 13:08:52,175 - INFO - general configs: include_all_pobj = False, ignore_first_mention = False, filter_stop_events = True\n",
      "2018-04-29 13:08:52,176 - INFO - evaluator specific configs: use_max_score = True\n",
      "2018-04-29 13:08:52,177 - INFO - general configs: filter_repetitive_prep = True\n",
      "Processed: 100%|██████████████████████████████████████████████████| 597/597 [07:00<00:00,  1.42it/s]"
     ]
    },
    {
     "name": "stdout",
     "output_type": "stream",
     "text": [
      "\n",
      "+-------------------------------------------------------------------------------+\n",
      "|                    # Cases     # Correct     Accuracy (%)      Avg # Choices  |\n",
      "+===============================================================================+\n",
      "|       All           10539         2938           27.88             70.63      |\n",
      "+-------------------------------------------------------------------------------+\n",
      "+-------------------------------------------------------------------------------+\n",
      "|    Arg Type        # Cases     # Correct     Accuracy (%)      Avg # Choices  |\n",
      "+===============================================================================+\n",
      "|      SUBJ            7605         2340           30.77             70.84      |\n",
      "|       OBJ            2036         464            22.79             69.11      |\n",
      "|      POBJ            898          134            14.92             72.34      |\n",
      "+-------------------------------------------------------------------------------+\n",
      "+-------------------------------------------------------------------------------+\n",
      "|       POS          # Cases     # Correct     Accuracy (%)      Avg # Choices  |\n",
      "+===============================================================================+\n",
      "|      Noun            6685         1766           26.42             67.28      |\n",
      "|     Pronoun          3721         1151           30.93             76.75      |\n",
      "|      Other           133           21            15.79             67.85      |\n",
      "+-------------------------------------------------------------------------------+\n",
      "+-------------------------------------------------------------------------------+\n",
      "|     Entity         # Cases     # Correct     Accuracy (%)      Avg # Choices  |\n",
      "|    Frequency                                                                  |\n",
      "+===============================================================================+\n",
      "|        1             4144         568            13.71             64.64      |\n",
      "|        2             1992         477            23.95             65.59      |\n",
      "|        3             1131         348            30.77             65.70      |\n",
      "|        4             683          226            33.09             65.44      |\n",
      "|        5             468          184            39.32             63.81      |\n",
      "|        6             345          147            42.61             66.60      |\n",
      "|        7             259          114            44.02             69.13      |\n",
      "|        8             212           94            44.34             73.67      |\n",
      "|        9             164           76            46.34             76.12      |\n",
      "|       10+            1141         704            61.70            112.21      |\n",
      "+-------------------------------------------------------------------------------+\n"
     ]
    },
    {
     "name": "stderr",
     "output_type": "stream",
     "text": [
      "\n"
     ]
    }
   ],
   "source": [
    "evaluator.set_model(EventCompositionModel.load_model(\n",
    "    join(model_path_root, '20170519/fine_tuning_full/iter_13')))\n",
    "evaluator.evaluate(on_long_scripts.scripts)"
   ]
  },
  {
   "cell_type": "markdown",
   "metadata": {},
   "source": [
    "### Evaluate EventComp-40M"
   ]
  },
  {
   "cell_type": "code",
   "execution_count": 18,
   "metadata": {
    "scrolled": false
   },
   "outputs": [
    {
     "name": "stderr",
     "output_type": "stream",
     "text": [
      "2018-04-29 13:15:52,797 - INFO - loading word counts from /home/pengxiang/workspace/corpora/enwiki-20160901/event_comp_training/results/20170611/fine_tuning_full/iter_19/word2vec.vocab\n",
      "2018-04-29 13:15:52,891 - INFO - loading projection weights from /home/pengxiang/workspace/corpora/enwiki-20160901/event_comp_training/results/20170611/fine_tuning_full/iter_19/word2vec.bin\n",
      "2018-04-29 13:15:53,531 - INFO - loaded (53345, 300) matrix from /home/pengxiang/workspace/corpora/enwiki-20160901/event_comp_training/results/20170611/fine_tuning_full/iter_19/word2vec.bin\n",
      "2018-04-29 13:15:53,536 - INFO - precomputing L2-norms of word weight vectors\n",
      "2018-04-29 13:15:53,982 - INFO - set embedding model: word2vec\n",
      "2018-04-29 13:15:53,998 - INFO - evaluation based on event_composition (sequential), with embedding model word2vec\n",
      "2018-04-29 13:15:53,999 - INFO - embedding configs: use_lemma = True, include_type = True\n",
      "2018-04-29 13:15:54,000 - INFO - general configs: include_all_pobj = False, ignore_first_mention = False, filter_stop_events = True\n",
      "2018-04-29 13:15:54,002 - INFO - evaluator specific configs: use_max_score = True\n",
      "2018-04-29 13:15:54,003 - INFO - general configs: filter_repetitive_prep = True\n",
      "Processed: 100%|██████████████████████████████████████████████████| 597/597 [06:42<00:00,  1.48it/s]"
     ]
    },
    {
     "name": "stdout",
     "output_type": "stream",
     "text": [
      "\n",
      "+-------------------------------------------------------------------------------+\n",
      "|                    # Cases     # Correct     Accuracy (%)      Avg # Choices  |\n",
      "+===============================================================================+\n",
      "|       All           10539         2446           23.21             70.63      |\n",
      "+-------------------------------------------------------------------------------+\n",
      "+-------------------------------------------------------------------------------+\n",
      "|    Arg Type        # Cases     # Correct     Accuracy (%)      Avg # Choices  |\n",
      "+===============================================================================+\n",
      "|      SUBJ            7605         1930           25.38             70.84      |\n",
      "|       OBJ            2036         371            18.22             69.11      |\n",
      "|      POBJ            898          145            16.15             72.34      |\n",
      "+-------------------------------------------------------------------------------+\n",
      "+-------------------------------------------------------------------------------+\n",
      "|       POS          # Cases     # Correct     Accuracy (%)      Avg # Choices  |\n",
      "+===============================================================================+\n",
      "|      Noun            6685         1563           23.38             67.28      |\n",
      "|     Pronoun          3721         855            22.98             76.75      |\n",
      "|      Other           133           28            21.05             67.85      |\n",
      "+-------------------------------------------------------------------------------+\n",
      "+-------------------------------------------------------------------------------+\n",
      "|     Entity         # Cases     # Correct     Accuracy (%)      Avg # Choices  |\n",
      "|    Frequency                                                                  |\n",
      "+===============================================================================+\n",
      "|        1             4144         822            19.84             64.64      |\n",
      "|        2             1992         462            23.19             65.59      |\n",
      "|        3             1131         259            22.90             65.70      |\n",
      "|        4             683          175            25.62             65.44      |\n",
      "|        5             468          122            26.07             63.81      |\n",
      "|        6             345           94            27.25             66.60      |\n",
      "|        7             259           79            30.50             69.13      |\n",
      "|        8             212           60            28.30             73.67      |\n",
      "|        9             164           39            23.78             76.12      |\n",
      "|       10+            1141         334            29.27            112.21      |\n",
      "+-------------------------------------------------------------------------------+\n"
     ]
    },
    {
     "name": "stderr",
     "output_type": "stream",
     "text": [
      "\n"
     ]
    }
   ],
   "source": [
    "evaluator.set_model(EventCompositionModel.load_model(\n",
    "    join(model_path_root, '20170611/fine_tuning_full/iter_19')))\n",
    "evaluator.evaluate(on_long_scripts.scripts)"
   ]
  },
  {
   "cell_type": "markdown",
   "metadata": {},
   "source": [
    "### Evaluate EventComp-40M + Entity Salience"
   ]
  },
  {
   "cell_type": "code",
   "execution_count": 19,
   "metadata": {
    "scrolled": false
   },
   "outputs": [
    {
     "name": "stderr",
     "output_type": "stream",
     "text": [
      "2018-04-29 13:22:36,146 - INFO - loading word counts from /home/pengxiang/workspace/corpora/enwiki-20160901/event_comp_training/results/20170530/fine_tuning_full/iter_19/word2vec.vocab\n",
      "2018-04-29 13:22:36,236 - INFO - loading projection weights from /home/pengxiang/workspace/corpora/enwiki-20160901/event_comp_training/results/20170530/fine_tuning_full/iter_19/word2vec.bin\n",
      "2018-04-29 13:22:36,681 - INFO - loaded (53345, 300) matrix from /home/pengxiang/workspace/corpora/enwiki-20160901/event_comp_training/results/20170530/fine_tuning_full/iter_19/word2vec.bin\n",
      "2018-04-29 13:22:36,686 - INFO - precomputing L2-norms of word weight vectors\n",
      "2018-04-29 13:22:37,134 - INFO - set embedding model: word2vec\n",
      "2018-04-29 13:22:37,153 - INFO - evaluation based on event_composition (sequential), with embedding model word2vec\n",
      "2018-04-29 13:22:37,154 - INFO - embedding configs: use_lemma = True, include_type = True\n",
      "2018-04-29 13:22:37,155 - INFO - general configs: include_all_pobj = False, ignore_first_mention = False, filter_stop_events = True\n",
      "2018-04-29 13:22:37,157 - INFO - evaluator specific configs: use_max_score = True\n",
      "2018-04-29 13:22:37,158 - INFO - general configs: filter_repetitive_prep = True\n",
      "Processed: 100%|██████████████████████████████████████████████████| 597/597 [07:00<00:00,  1.42it/s]"
     ]
    },
    {
     "name": "stdout",
     "output_type": "stream",
     "text": [
      "\n",
      "+-------------------------------------------------------------------------------+\n",
      "|                    # Cases     # Correct     Accuracy (%)      Avg # Choices  |\n",
      "+===============================================================================+\n",
      "|       All           10539         3027           28.72             70.63      |\n",
      "+-------------------------------------------------------------------------------+\n",
      "+-------------------------------------------------------------------------------+\n",
      "|    Arg Type        # Cases     # Correct     Accuracy (%)      Avg # Choices  |\n",
      "+===============================================================================+\n",
      "|      SUBJ            7605         2367           31.12             70.84      |\n",
      "|       OBJ            2036         499            24.51             69.11      |\n",
      "|      POBJ            898          161            17.93             72.34      |\n",
      "+-------------------------------------------------------------------------------+\n",
      "+-------------------------------------------------------------------------------+\n",
      "|       POS          # Cases     # Correct     Accuracy (%)      Avg # Choices  |\n",
      "+===============================================================================+\n",
      "|      Noun            6685         1888           28.24             67.28      |\n",
      "|     Pronoun          3721         1111           29.86             76.75      |\n",
      "|      Other           133           28            21.05             67.85      |\n",
      "+-------------------------------------------------------------------------------+\n",
      "+-------------------------------------------------------------------------------+\n",
      "|     Entity         # Cases     # Correct     Accuracy (%)      Avg # Choices  |\n",
      "|    Frequency                                                                  |\n",
      "+===============================================================================+\n",
      "|        1             4144         621            14.99             64.64      |\n",
      "|        2             1992         491            24.65             65.59      |\n",
      "|        3             1131         355            31.39             65.70      |\n",
      "|        4             683          241            35.29             65.44      |\n",
      "|        5             468          201            42.95             63.81      |\n",
      "|        6             345          156            45.22             66.60      |\n",
      "|        7             259          114            44.02             69.13      |\n",
      "|        8             212           98            46.23             73.67      |\n",
      "|        9             164           74            45.12             76.12      |\n",
      "|       10+            1141         676            59.25            112.21      |\n",
      "+-------------------------------------------------------------------------------+\n"
     ]
    },
    {
     "name": "stderr",
     "output_type": "stream",
     "text": [
      "\n"
     ]
    }
   ],
   "source": [
    "evaluator.set_model(EventCompositionModel.load_model(\n",
    "    join(model_path_root, '20170530/fine_tuning_full/iter_19')))\n",
    "evaluator.evaluate(on_long_scripts.scripts)"
   ]
  },
  {
   "cell_type": "markdown",
   "metadata": {},
   "source": [
    "### Evaluate EventComp-5M (New)"
   ]
  },
  {
   "cell_type": "code",
   "execution_count": 20,
   "metadata": {},
   "outputs": [
    {
     "name": "stderr",
     "output_type": "stream",
     "text": [
      "2018-04-29 13:29:37,985 - INFO - loading word counts from /home/pengxiang/workspace/corpora/enwiki-20160901/event_comp_training/results/20180426_1/fine_tuning_full/word2vec.vocab\n",
      "2018-04-29 13:29:38,075 - INFO - loading projection weights from /home/pengxiang/workspace/corpora/enwiki-20160901/event_comp_training/results/20180426_1/fine_tuning_full/word2vec.bin\n",
      "2018-04-29 13:29:38,523 - INFO - loaded (53345, 300) matrix from /home/pengxiang/workspace/corpora/enwiki-20160901/event_comp_training/results/20180426_1/fine_tuning_full/word2vec.bin\n",
      "2018-04-29 13:29:38,527 - INFO - precomputing L2-norms of word weight vectors\n",
      "2018-04-29 13:29:38,970 - INFO - set embedding model: word2vec\n",
      "2018-04-29 13:29:38,987 - INFO - evaluation based on event_composition (sequential), with embedding model word2vec\n",
      "2018-04-29 13:29:38,988 - INFO - embedding configs: use_lemma = True, include_type = True\n",
      "2018-04-29 13:29:38,989 - INFO - general configs: include_all_pobj = False, ignore_first_mention = False, filter_stop_events = True\n",
      "2018-04-29 13:29:38,990 - INFO - evaluator specific configs: use_max_score = True\n",
      "2018-04-29 13:29:38,992 - INFO - general configs: filter_repetitive_prep = True\n",
      "Processed: 100%|██████████████████████████████████████████████████| 597/597 [06:44<00:00,  1.48it/s]"
     ]
    },
    {
     "name": "stdout",
     "output_type": "stream",
     "text": [
      "\n",
      "+-------------------------------------------------------------------------------+\n",
      "|                    # Cases     # Correct     Accuracy (%)      Avg # Choices  |\n",
      "+===============================================================================+\n",
      "|       All           10539         1995           18.93             70.63      |\n",
      "+-------------------------------------------------------------------------------+\n",
      "+-------------------------------------------------------------------------------+\n",
      "|    Arg Type        # Cases     # Correct     Accuracy (%)      Avg # Choices  |\n",
      "+===============================================================================+\n",
      "|      SUBJ            7605         1539           20.24             70.84      |\n",
      "|       OBJ            2036         313            15.37             69.11      |\n",
      "|      POBJ            898          143            15.92             72.34      |\n",
      "+-------------------------------------------------------------------------------+\n",
      "+-------------------------------------------------------------------------------+\n",
      "|       POS          # Cases     # Correct     Accuracy (%)      Avg # Choices  |\n",
      "+===============================================================================+\n",
      "|      Noun            6685         1220           18.25             67.28      |\n",
      "|     Pronoun          3721         760            20.42             76.75      |\n",
      "|      Other           133           15            11.28             67.85      |\n",
      "+-------------------------------------------------------------------------------+\n",
      "+-------------------------------------------------------------------------------+\n",
      "|     Entity         # Cases     # Correct     Accuracy (%)      Avg # Choices  |\n",
      "|    Frequency                                                                  |\n",
      "+===============================================================================+\n",
      "|        1             4144         699            16.87             64.64      |\n",
      "|        2             1992         357            17.92             65.59      |\n",
      "|        3             1131         231            20.42             65.70      |\n",
      "|        4             683          150            21.96             65.44      |\n",
      "|        5             468          100            21.37             63.81      |\n",
      "|        6             345           78            22.61             66.60      |\n",
      "|        7             259           60            23.17             69.13      |\n",
      "|        8             212           43            20.28             73.67      |\n",
      "|        9             164           34            20.73             76.12      |\n",
      "|       10+            1141         243            21.30            112.21      |\n",
      "+-------------------------------------------------------------------------------+\n"
     ]
    },
    {
     "name": "stderr",
     "output_type": "stream",
     "text": [
      "\n"
     ]
    }
   ],
   "source": [
    "evaluator.set_model(EventCompositionModel.load_model(\n",
    "    join(model_path_root, '20180426_1/fine_tuning_full')))\n",
    "evaluator.evaluate(on_long_scripts.scripts)"
   ]
  },
  {
   "cell_type": "markdown",
   "metadata": {},
   "source": [
    "### Evaluate EventComp-5M + Entity Salience (New)"
   ]
  },
  {
   "cell_type": "code",
   "execution_count": 21,
   "metadata": {},
   "outputs": [
    {
     "name": "stderr",
     "output_type": "stream",
     "text": [
      "2018-04-29 13:36:23,324 - INFO - loading word counts from /home/pengxiang/workspace/corpora/enwiki-20160901/event_comp_training/results/20180426_2/fine_tuning_full/word2vec.vocab\n",
      "2018-04-29 13:36:23,412 - INFO - loading projection weights from /home/pengxiang/workspace/corpora/enwiki-20160901/event_comp_training/results/20180426_2/fine_tuning_full/word2vec.bin\n",
      "2018-04-29 13:36:23,859 - INFO - loaded (53345, 300) matrix from /home/pengxiang/workspace/corpora/enwiki-20160901/event_comp_training/results/20180426_2/fine_tuning_full/word2vec.bin\n",
      "2018-04-29 13:36:23,863 - INFO - precomputing L2-norms of word weight vectors\n",
      "2018-04-29 13:36:24,304 - INFO - set embedding model: word2vec\n",
      "2018-04-29 13:36:24,321 - INFO - evaluation based on event_composition (sequential), with embedding model word2vec\n",
      "2018-04-29 13:36:24,322 - INFO - embedding configs: use_lemma = True, include_type = True\n",
      "2018-04-29 13:36:24,323 - INFO - general configs: include_all_pobj = False, ignore_first_mention = False, filter_stop_events = True\n",
      "2018-04-29 13:36:24,324 - INFO - evaluator specific configs: use_max_score = True\n",
      "2018-04-29 13:36:24,325 - INFO - general configs: filter_repetitive_prep = True\n",
      "Processed: 100%|██████████████████████████████████████████████████| 597/597 [06:58<00:00,  1.43it/s]"
     ]
    },
    {
     "name": "stdout",
     "output_type": "stream",
     "text": [
      "\n",
      "+-------------------------------------------------------------------------------+\n",
      "|                    # Cases     # Correct     Accuracy (%)      Avg # Choices  |\n",
      "+===============================================================================+\n",
      "|       All           10539         3105           29.46             70.63      |\n",
      "+-------------------------------------------------------------------------------+\n",
      "+-------------------------------------------------------------------------------+\n",
      "|    Arg Type        # Cases     # Correct     Accuracy (%)      Avg # Choices  |\n",
      "+===============================================================================+\n",
      "|      SUBJ            7605         2428           31.93             70.84      |\n",
      "|       OBJ            2036         491            24.12             69.11      |\n",
      "|      POBJ            898          186            20.71             72.34      |\n",
      "+-------------------------------------------------------------------------------+\n",
      "+-------------------------------------------------------------------------------+\n",
      "|       POS          # Cases     # Correct     Accuracy (%)      Avg # Choices  |\n",
      "+===============================================================================+\n",
      "|      Noun            6685         1872           28.00             67.28      |\n",
      "|     Pronoun          3721         1214           32.63             76.75      |\n",
      "|      Other           133           19            14.29             67.85      |\n",
      "+-------------------------------------------------------------------------------+\n",
      "+-------------------------------------------------------------------------------+\n",
      "|     Entity         # Cases     # Correct     Accuracy (%)      Avg # Choices  |\n",
      "|    Frequency                                                                  |\n",
      "+===============================================================================+\n",
      "|        1             4144         328            7.92              64.64      |\n",
      "|        2             1992         574            28.82             65.59      |\n",
      "|        3             1131         401            35.46             65.70      |\n",
      "|        4             683          280            41.00             65.44      |\n",
      "|        5             468          212            45.30             63.81      |\n",
      "|        6             345          186            53.91             66.60      |\n",
      "|        7             259          136            52.51             69.13      |\n",
      "|        8             212          119            56.13             73.67      |\n",
      "|        9             164          102            62.20             76.12      |\n",
      "|       10+            1141         767            67.22            112.21      |\n",
      "+-------------------------------------------------------------------------------+\n"
     ]
    },
    {
     "name": "stderr",
     "output_type": "stream",
     "text": [
      "\n"
     ]
    }
   ],
   "source": [
    "evaluator.set_model(EventCompositionModel.load_model(\n",
    "    join(model_path_root, '20180426_2/fine_tuning_full')))\n",
    "evaluator.evaluate(on_long_scripts.scripts)"
   ]
  },
  {
   "cell_type": "markdown",
   "metadata": {},
   "source": [
    "### Evaluate EventComp-25M (New)"
   ]
  },
  {
   "cell_type": "code",
   "execution_count": 22,
   "metadata": {},
   "outputs": [
    {
     "name": "stderr",
     "output_type": "stream",
     "text": [
      "2018-04-29 13:43:22,983 - INFO - loading word counts from /home/pengxiang/workspace/corpora/enwiki-20160901/event_comp_training/results/20180426_3/fine_tuning_full/word2vec.vocab\n",
      "2018-04-29 13:43:23,070 - INFO - loading projection weights from /home/pengxiang/workspace/corpora/enwiki-20160901/event_comp_training/results/20180426_3/fine_tuning_full/word2vec.bin\n",
      "2018-04-29 13:43:23,715 - INFO - loaded (53345, 300) matrix from /home/pengxiang/workspace/corpora/enwiki-20160901/event_comp_training/results/20180426_3/fine_tuning_full/word2vec.bin\n",
      "2018-04-29 13:43:23,719 - INFO - precomputing L2-norms of word weight vectors\n",
      "2018-04-29 13:43:24,167 - INFO - set embedding model: word2vec\n",
      "2018-04-29 13:43:24,184 - INFO - evaluation based on event_composition (sequential), with embedding model word2vec\n",
      "2018-04-29 13:43:24,185 - INFO - embedding configs: use_lemma = True, include_type = True\n",
      "2018-04-29 13:43:24,186 - INFO - general configs: include_all_pobj = False, ignore_first_mention = False, filter_stop_events = True\n",
      "2018-04-29 13:43:24,187 - INFO - evaluator specific configs: use_max_score = True\n",
      "2018-04-29 13:43:24,188 - INFO - general configs: filter_repetitive_prep = True\n",
      "Processed: 100%|██████████████████████████████████████████████████| 597/597 [06:45<00:00,  1.47it/s]"
     ]
    },
    {
     "name": "stdout",
     "output_type": "stream",
     "text": [
      "\n",
      "+-------------------------------------------------------------------------------+\n",
      "|                    # Cases     # Correct     Accuracy (%)      Avg # Choices  |\n",
      "+===============================================================================+\n",
      "|       All           10539         2241           21.26             70.63      |\n",
      "+-------------------------------------------------------------------------------+\n",
      "+-------------------------------------------------------------------------------+\n",
      "|    Arg Type        # Cases     # Correct     Accuracy (%)      Avg # Choices  |\n",
      "+===============================================================================+\n",
      "|      SUBJ            7605         1716           22.56             70.84      |\n",
      "|       OBJ            2036         386            18.96             69.11      |\n",
      "|      POBJ            898          139            15.48             72.34      |\n",
      "+-------------------------------------------------------------------------------+\n",
      "+-------------------------------------------------------------------------------+\n",
      "|       POS          # Cases     # Correct     Accuracy (%)      Avg # Choices  |\n",
      "+===============================================================================+\n",
      "|      Noun            6685         1432           21.42             67.28      |\n",
      "|     Pronoun          3721         794            21.34             76.75      |\n",
      "|      Other           133           15            11.28             67.85      |\n",
      "+-------------------------------------------------------------------------------+\n",
      "+-------------------------------------------------------------------------------+\n",
      "|     Entity         # Cases     # Correct     Accuracy (%)      Avg # Choices  |\n",
      "|    Frequency                                                                  |\n",
      "+===============================================================================+\n",
      "|        1             4144         751            18.12             64.64      |\n",
      "|        2             1992         416            20.88             65.59      |\n",
      "|        3             1131         278            24.58             65.70      |\n",
      "|        4             683          155            22.69             65.44      |\n",
      "|        5             468          122            26.07             63.81      |\n",
      "|        6             345          103            29.86             66.60      |\n",
      "|        7             259           64            24.71             69.13      |\n",
      "|        8             212           52            24.53             73.67      |\n",
      "|        9             164           29            17.68             76.12      |\n",
      "|       10+            1141         271            23.75            112.21      |\n",
      "+-------------------------------------------------------------------------------+\n"
     ]
    },
    {
     "name": "stderr",
     "output_type": "stream",
     "text": [
      "\n"
     ]
    }
   ],
   "source": [
    "evaluator.set_model(EventCompositionModel.load_model(\n",
    "    join(model_path_root, '20180426_3/fine_tuning_full')))\n",
    "evaluator.evaluate(on_long_scripts.scripts)"
   ]
  },
  {
   "cell_type": "markdown",
   "metadata": {},
   "source": [
    "### Evaluate EventComp-25M + Entity Salience (New)"
   ]
  },
  {
   "cell_type": "code",
   "execution_count": 23,
   "metadata": {},
   "outputs": [
    {
     "name": "stderr",
     "output_type": "stream",
     "text": [
      "2018-04-29 13:50:09,600 - INFO - loading word counts from /home/pengxiang/workspace/corpora/enwiki-20160901/event_comp_training/results/20180426_4/fine_tuning_full/word2vec.vocab\n",
      "2018-04-29 13:50:09,689 - INFO - loading projection weights from /home/pengxiang/workspace/corpora/enwiki-20160901/event_comp_training/results/20180426_4/fine_tuning_full/word2vec.bin\n",
      "2018-04-29 13:50:10,136 - INFO - loaded (53345, 300) matrix from /home/pengxiang/workspace/corpora/enwiki-20160901/event_comp_training/results/20180426_4/fine_tuning_full/word2vec.bin\n",
      "2018-04-29 13:50:10,141 - INFO - precomputing L2-norms of word weight vectors\n",
      "2018-04-29 13:50:10,580 - INFO - set embedding model: word2vec\n",
      "2018-04-29 13:50:10,598 - INFO - evaluation based on event_composition (sequential), with embedding model word2vec\n",
      "2018-04-29 13:50:10,599 - INFO - embedding configs: use_lemma = True, include_type = True\n",
      "2018-04-29 13:50:10,600 - INFO - general configs: include_all_pobj = False, ignore_first_mention = False, filter_stop_events = True\n",
      "2018-04-29 13:50:10,601 - INFO - evaluator specific configs: use_max_score = True\n",
      "2018-04-29 13:50:10,602 - INFO - general configs: filter_repetitive_prep = True\n",
      "Processed: 100%|██████████████████████████████████████████████████| 597/597 [06:59<00:00,  1.42it/s]"
     ]
    },
    {
     "name": "stdout",
     "output_type": "stream",
     "text": [
      "\n",
      "+-------------------------------------------------------------------------------+\n",
      "|                    # Cases     # Correct     Accuracy (%)      Avg # Choices  |\n",
      "+===============================================================================+\n",
      "|       All           10539         3312           31.43             70.63      |\n",
      "+-------------------------------------------------------------------------------+\n",
      "+-------------------------------------------------------------------------------+\n",
      "|    Arg Type        # Cases     # Correct     Accuracy (%)      Avg # Choices  |\n",
      "+===============================================================================+\n",
      "|      SUBJ            7605         2567           33.75             70.84      |\n",
      "|       OBJ            2036         559            27.46             69.11      |\n",
      "|      POBJ            898          186            20.71             72.34      |\n",
      "+-------------------------------------------------------------------------------+\n",
      "+-------------------------------------------------------------------------------+\n",
      "|       POS          # Cases     # Correct     Accuracy (%)      Avg # Choices  |\n",
      "+===============================================================================+\n",
      "|      Noun            6685         2031           30.38             67.28      |\n",
      "|     Pronoun          3721         1256           33.75             76.75      |\n",
      "|      Other           133           25            18.80             67.85      |\n",
      "+-------------------------------------------------------------------------------+\n",
      "+-------------------------------------------------------------------------------+\n",
      "|     Entity         # Cases     # Correct     Accuracy (%)      Avg # Choices  |\n",
      "|    Frequency                                                                  |\n",
      "+===============================================================================+\n",
      "|        1             4144         416            10.04             64.64      |\n",
      "|        2             1992         635            31.88             65.59      |\n",
      "|        3             1131         422            37.31             65.70      |\n",
      "|        4             683          286            41.87             65.44      |\n",
      "|        5             468          214            45.73             63.81      |\n",
      "|        6             345          174            50.43             66.60      |\n",
      "|        7             259          148            57.14             69.13      |\n",
      "|        8             212          123            58.02             73.67      |\n",
      "|        9             164           98            59.76             76.12      |\n",
      "|       10+            1141         796            69.76            112.21      |\n",
      "+-------------------------------------------------------------------------------+\n"
     ]
    },
    {
     "name": "stderr",
     "output_type": "stream",
     "text": [
      "\n"
     ]
    }
   ],
   "source": [
    "evaluator.set_model(EventCompositionModel.load_model(\n",
    "    join(model_path_root, '20180426_4/fine_tuning_full')))\n",
    "evaluator.evaluate(on_long_scripts.scripts)"
   ]
  },
  {
   "cell_type": "code",
   "execution_count": null,
   "metadata": {},
   "outputs": [],
   "source": []
  }
 ],
 "metadata": {
  "kernelspec": {
   "display_name": "Python 2",
   "language": "python",
   "name": "python2"
  },
  "language_info": {
   "codemirror_mode": {
    "name": "ipython",
    "version": 2
   },
   "file_extension": ".py",
   "mimetype": "text/x-python",
   "name": "python",
   "nbconvert_exporter": "python",
   "pygments_lexer": "ipython2",
   "version": "2.7.14"
  }
 },
 "nbformat": 4,
 "nbformat_minor": 2
}
