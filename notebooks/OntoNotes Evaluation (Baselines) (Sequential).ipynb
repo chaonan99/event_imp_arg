{
 "cells": [
  {
   "cell_type": "code",
   "execution_count": 1,
   "metadata": {},
   "outputs": [],
   "source": [
    "%load_ext autoreload\n",
    "%autoreload 2"
   ]
  },
  {
   "cell_type": "code",
   "execution_count": 2,
   "metadata": {},
   "outputs": [],
   "source": [
    "import sys\n",
    "from os.path import realpath\n",
    "sys.path.insert(0, realpath('../src'))"
   ]
  },
  {
   "cell_type": "markdown",
   "metadata": {},
   "source": [
    "## Load Datasets"
   ]
  },
  {
   "cell_type": "code",
   "execution_count": 3,
   "metadata": {},
   "outputs": [
    {
     "name": "stderr",
     "output_type": "stream",
     "text": [
      "2018-04-26 01:36:16,308 - INFO - 'pattern' package not found; tag filters are not available for English\n"
     ]
    }
   ],
   "source": [
    "from common.event_script import ScriptCorpus"
   ]
  },
  {
   "cell_type": "code",
   "execution_count": 4,
   "metadata": {},
   "outputs": [
    {
     "name": "stdout",
     "output_type": "stream",
     "text": [
      "Found 1027 scripts in OnShort dataset\n"
     ]
    }
   ],
   "source": [
    "with open('../data/ontonotes/on_short_scripts.txt', 'r') as fin:\n",
    "    on_short_scripts = ScriptCorpus.from_text(fin.read())\n",
    "print 'Found {} scripts in OnShort dataset'.format(on_short_scripts.num_scripts)"
   ]
  },
  {
   "cell_type": "code",
   "execution_count": 5,
   "metadata": {},
   "outputs": [
    {
     "name": "stdout",
     "output_type": "stream",
     "text": [
      "Found 597 scripts in OnLong dataset\n"
     ]
    }
   ],
   "source": [
    "with open('../data/ontonotes/on_long_scripts.txt', 'r') as fin:\n",
    "    on_long_scripts = ScriptCorpus.from_text(fin.read())\n",
    "print 'Found {} scripts in OnLong dataset'.format(on_long_scripts.num_scripts)"
   ]
  },
  {
   "cell_type": "markdown",
   "metadata": {},
   "source": [
    "## Create SeqWord2Vec Evaluator"
   ]
  },
  {
   "cell_type": "code",
   "execution_count": 6,
   "metadata": {},
   "outputs": [
    {
     "name": "stderr",
     "output_type": "stream",
     "text": [
      "2018-04-26 01:36:21,690 - INFO - loading word counts from /home/pengxiang/workspace/corpora/enwiki-20160901/word2vec/spaces/sample_1e-4_min_500/min_500_dim300vecs.vocab\n",
      "2018-04-26 01:36:21,779 - INFO - loading projection weights from /home/pengxiang/workspace/corpora/enwiki-20160901/word2vec/spaces/sample_1e-4_min_500/min_500_dim300vecs.bin\n",
      "2018-04-26 01:36:22,218 - INFO - loaded (53345, 300) matrix from /home/pengxiang/workspace/corpora/enwiki-20160901/word2vec/spaces/sample_1e-4_min_500/min_500_dim300vecs.bin\n",
      "2018-04-26 01:36:22,221 - INFO - precomputing L2-norms of word weight vectors\n"
     ]
    }
   ],
   "source": [
    "from os.path import join\n",
    "\n",
    "from utils import Word2VecModel\n",
    "\n",
    "word2vec_dir = '/home/pengxiang/workspace/corpora/enwiki-20160901/word2vec/spaces/sample_1e-4_min_500'\n",
    "word2vec = Word2VecModel.load_model(\n",
    "    join(word2vec_dir, 'min_500_dim300vecs.bin'),\n",
    "    fvocab=join(word2vec_dir, 'min_500_dim300vecs.vocab'))"
   ]
  },
  {
   "cell_type": "code",
   "execution_count": 7,
   "metadata": {},
   "outputs": [
    {
     "name": "stderr",
     "output_type": "stream",
     "text": [
      "Using cuDNN version 7004 on context None\n",
      "Mapped name None to device cuda: GeForce GTX 1080 Ti (0000:01:00.0)\n",
      "2018-04-26 01:36:24,865 - INFO - set embedding model: min_500_dim300vecs\n"
     ]
    }
   ],
   "source": [
    "from evaluate.seq_word2vec_evaluator import SeqWord2VecEvaluator\n",
    "\n",
    "word2vec_evaluator = SeqWord2VecEvaluator(\n",
    "    use_lemma=True, include_type=True, ignore_first_mention=False, filter_stop_events=True,\n",
    "    filter_repetitive_prep=True, use_max_score=True)\n",
    "\n",
    "word2vec_evaluator.set_model(word2vec)"
   ]
  },
  {
   "cell_type": "markdown",
   "metadata": {},
   "source": [
    "## Evaluate Baselines on OnShort"
   ]
  },
  {
   "cell_type": "code",
   "execution_count": 8,
   "metadata": {
    "scrolled": false
   },
   "outputs": [
    {
     "name": "stderr",
     "output_type": "stream",
     "text": [
      "2018-04-26 01:36:27,021 - INFO - evaluation based on word2vec (sequential), with embedding model min_500_dim300vecs\n",
      "2018-04-26 01:36:27,023 - INFO - embedding configs: use_lemma = True, include_type = True\n",
      "2018-04-26 01:36:27,024 - INFO - general configs: include_all_pobj = False, ignore_first_mention = False, filter_stop_events = True\n",
      "2018-04-26 01:36:27,025 - INFO - evaluator specific configs: use_max_score = True\n",
      "2018-04-26 01:36:27,026 - INFO - general configs: filter_repetitive_prep = True\n",
      "Processed: 100%|████████████████████████████████████████████████| 1027/1027 [01:09<00:00, 14.73it/s]"
     ]
    },
    {
     "name": "stdout",
     "output_type": "stream",
     "text": [
      "\n",
      "+-------------------------------------------------------------------------------+\n",
      "|                    # Cases     # Correct     Accuracy (%)      Avg # Choices  |\n",
      "+===============================================================================+\n",
      "|       All            7781         2845           36.56             25.70      |\n",
      "+-------------------------------------------------------------------------------+\n",
      "+-------------------------------------------------------------------------------+\n",
      "|    Arg Type        # Cases     # Correct     Accuracy (%)      Avg # Choices  |\n",
      "+===============================================================================+\n",
      "|      SUBJ            5080         1909           37.58             26.18      |\n",
      "|       OBJ            1681         581            34.56             24.13      |\n",
      "|      POBJ            1020         355            34.80             25.90      |\n",
      "+-------------------------------------------------------------------------------+\n",
      "+-------------------------------------------------------------------------------+\n",
      "|       POS          # Cases     # Correct     Accuracy (%)      Avg # Choices  |\n",
      "+===============================================================================+\n",
      "|      Noun            4662         1722           36.94             24.73      |\n",
      "|     Pronoun          2993         1078           36.02             27.16      |\n",
      "|      Other           126           45            35.71             26.88      |\n",
      "+-------------------------------------------------------------------------------+\n",
      "+-------------------------------------------------------------------------------+\n",
      "|     Entity         # Cases     # Correct     Accuracy (%)      Avg # Choices  |\n",
      "|    Frequency                                                                  |\n",
      "+===============================================================================+\n",
      "|        1             3194         957            29.96             20.45      |\n",
      "|        2             1582         610            38.56             22.35      |\n",
      "|        3             924          380            41.13             26.65      |\n",
      "|        4             557          246            44.17             28.76      |\n",
      "|        5             373          161            43.16             30.38      |\n",
      "|        6             261          114            43.68             32.49      |\n",
      "|        7             197           81            41.12             35.29      |\n",
      "|        8             153           57            37.25             37.10      |\n",
      "|        9             121           61            50.41             41.19      |\n",
      "|       10+            419          178            42.48             50.65      |\n",
      "+-------------------------------------------------------------------------------+\n"
     ]
    },
    {
     "name": "stderr",
     "output_type": "stream",
     "text": [
      "\n"
     ]
    }
   ],
   "source": [
    "word2vec_evaluator.evaluate(on_short_scripts.scripts)"
   ]
  },
  {
   "cell_type": "markdown",
   "metadata": {},
   "source": [
    "## Evaluate Baselines on OnLong"
   ]
  },
  {
   "cell_type": "code",
   "execution_count": 9,
   "metadata": {},
   "outputs": [
    {
     "name": "stderr",
     "output_type": "stream",
     "text": [
      "2018-04-26 01:41:33,203 - INFO - evaluation based on word2vec (sequential), with embedding model min_500_dim300vecs\n",
      "2018-04-26 01:41:33,204 - INFO - embedding configs: use_lemma = True, include_type = True\n",
      "2018-04-26 01:41:33,205 - INFO - general configs: include_all_pobj = False, ignore_first_mention = False, filter_stop_events = True\n",
      "2018-04-26 01:41:33,206 - INFO - evaluator specific configs: use_max_score = True\n",
      "2018-04-26 01:41:33,208 - INFO - general configs: filter_repetitive_prep = True\n",
      "Processed: 100%|██████████████████████████████████████████████████| 597/597 [09:54<00:00,  1.00it/s]"
     ]
    },
    {
     "name": "stdout",
     "output_type": "stream",
     "text": [
      "\n",
      "+-------------------------------------------------------------------------------+\n",
      "|                    # Cases     # Correct     Accuracy (%)      Avg # Choices  |\n",
      "+===============================================================================+\n",
      "|       All           10539         2509           23.81             70.63      |\n",
      "+-------------------------------------------------------------------------------+\n",
      "+-------------------------------------------------------------------------------+\n",
      "|    Arg Type        # Cases     # Correct     Accuracy (%)      Avg # Choices  |\n",
      "+===============================================================================+\n",
      "|      SUBJ            7605         1898           24.96             70.84      |\n",
      "|       OBJ            2036         409            20.09             69.11      |\n",
      "|      POBJ            898          202            22.49             72.34      |\n",
      "+-------------------------------------------------------------------------------+\n",
      "+-------------------------------------------------------------------------------+\n",
      "|       POS          # Cases     # Correct     Accuracy (%)      Avg # Choices  |\n",
      "+===============================================================================+\n",
      "|      Noun            6685         1646           24.62             67.28      |\n",
      "|     Pronoun          3721         828            22.25             76.75      |\n",
      "|      Other           133           35            26.32             67.85      |\n",
      "+-------------------------------------------------------------------------------+\n",
      "+-------------------------------------------------------------------------------+\n",
      "|     Entity         # Cases     # Correct     Accuracy (%)      Avg # Choices  |\n",
      "|    Frequency                                                                  |\n",
      "+===============================================================================+\n",
      "|        1             4144         735            17.74             64.64      |\n",
      "|        2             1992         478            24.00             65.59      |\n",
      "|        3             1131         306            27.06             65.70      |\n",
      "|        4             683          187            27.38             65.44      |\n",
      "|        5             468          137            29.27             63.81      |\n",
      "|        6             345          120            34.78             66.60      |\n",
      "|        7             259           85            32.82             69.13      |\n",
      "|        8             212           64            30.19             73.67      |\n",
      "|        9             164           53            32.32             76.12      |\n",
      "|       10+            1141         344            30.15            112.21      |\n",
      "+-------------------------------------------------------------------------------+\n"
     ]
    },
    {
     "name": "stderr",
     "output_type": "stream",
     "text": [
      "\n"
     ]
    }
   ],
   "source": [
    "word2vec_evaluator.evaluate(on_long_scripts.scripts)"
   ]
  },
  {
   "cell_type": "code",
   "execution_count": null,
   "metadata": {},
   "outputs": [],
   "source": []
  }
 ],
 "metadata": {
  "kernelspec": {
   "display_name": "Python 2",
   "language": "python",
   "name": "python2"
  },
  "language_info": {
   "codemirror_mode": {
    "name": "ipython",
    "version": 2
   },
   "file_extension": ".py",
   "mimetype": "text/x-python",
   "name": "python",
   "nbconvert_exporter": "python",
   "pygments_lexer": "ipython2",
   "version": "2.7.14"
  }
 },
 "nbformat": 4,
 "nbformat_minor": 2
}
