{
 "cells": [
  {
   "cell_type": "code",
   "execution_count": 1,
   "metadata": {},
   "outputs": [],
   "source": [
    "%load_ext autoreload\n",
    "%autoreload 2"
   ]
  },
  {
   "cell_type": "code",
   "execution_count": 2,
   "metadata": {},
   "outputs": [],
   "source": [
    "import sys\n",
    "from os.path import realpath\n",
    "sys.path.insert(0, realpath('../src'))"
   ]
  },
  {
   "cell_type": "markdown",
   "metadata": {},
   "source": [
    "## Load Datasets"
   ]
  },
  {
   "cell_type": "code",
   "execution_count": 3,
   "metadata": {},
   "outputs": [
    {
     "name": "stderr",
     "output_type": "stream",
     "text": [
      "2018-04-25 20:17:50,408 - INFO - 'pattern' package not found; tag filters are not available for English\n"
     ]
    }
   ],
   "source": [
    "from common.event_script import ScriptCorpus"
   ]
  },
  {
   "cell_type": "code",
   "execution_count": 4,
   "metadata": {},
   "outputs": [
    {
     "name": "stdout",
     "output_type": "stream",
     "text": [
      "Found 1027 scripts in OnShort dataset\n"
     ]
    }
   ],
   "source": [
    "with open('../data/ontonotes/on_short_scripts.txt', 'r') as fin:\n",
    "    on_short_scripts = ScriptCorpus.from_text(fin.read())\n",
    "print 'Found {} scripts in OnShort dataset'.format(on_short_scripts.num_scripts)"
   ]
  },
  {
   "cell_type": "code",
   "execution_count": 5,
   "metadata": {},
   "outputs": [
    {
     "name": "stdout",
     "output_type": "stream",
     "text": [
      "Found 597 scripts in OnLong dataset\n"
     ]
    }
   ],
   "source": [
    "with open('../data/ontonotes/on_long_scripts.txt', 'r') as fin:\n",
    "    on_long_scripts = ScriptCorpus.from_text(fin.read())\n",
    "print 'Found {} scripts in OnLong dataset'.format(on_long_scripts.num_scripts)"
   ]
  },
  {
   "cell_type": "markdown",
   "metadata": {},
   "source": [
    "## Create Evaluator"
   ]
  },
  {
   "cell_type": "code",
   "execution_count": 6,
   "metadata": {},
   "outputs": [
    {
     "name": "stderr",
     "output_type": "stream",
     "text": [
      "Using cuDNN version 7004 on context None\n",
      "Mapped name None to device cuda: GeForce GTX 1080 Ti (0000:01:00.0)\n"
     ]
    }
   ],
   "source": [
    "from evaluate import EventCompositionEvaluator\n",
    "\n",
    "evaluator = EventCompositionEvaluator(\n",
    "    use_lemma=True, include_type=True, ignore_first_mention=False, filter_stop_events=True, use_max_score=True)"
   ]
  },
  {
   "cell_type": "markdown",
   "metadata": {},
   "source": [
    "## Evaluate Models on OnShort"
   ]
  },
  {
   "cell_type": "code",
   "execution_count": 7,
   "metadata": {},
   "outputs": [],
   "source": [
    "from model.event_comp import EventCompositionModel\n",
    "from os.path import join\n",
    "model_path_root = '/home/pengxiang/workspace/corpora/enwiki-20160901/event_comp_training/results'"
   ]
  },
  {
   "cell_type": "markdown",
   "metadata": {},
   "source": [
    "### Evaluate EventComp-8M"
   ]
  },
  {
   "cell_type": "code",
   "execution_count": 8,
   "metadata": {},
   "outputs": [
    {
     "name": "stderr",
     "output_type": "stream",
     "text": [
      "2018-04-25 20:18:01,434 - INFO - loading word counts from /home/pengxiang/workspace/corpora/enwiki-20160901/event_comp_training/results/20170609/fine_tuning_full/iter_19/word2vec.vocab\n",
      "2018-04-25 20:18:01,528 - INFO - loading projection weights from /home/pengxiang/workspace/corpora/enwiki-20160901/event_comp_training/results/20170609/fine_tuning_full/iter_19/word2vec.bin\n",
      "2018-04-25 20:18:01,974 - INFO - loaded (53345, 300) matrix from /home/pengxiang/workspace/corpora/enwiki-20160901/event_comp_training/results/20170609/fine_tuning_full/iter_19/word2vec.bin\n",
      "2018-04-25 20:18:01,978 - INFO - precomputing L2-norms of word weight vectors\n",
      "2018-04-25 20:18:03,306 - INFO - set embedding model: word2vec\n",
      "2018-04-25 20:18:03,307 - INFO - evaluation based on event_composition, with embedding model word2vec\n",
      "2018-04-25 20:18:03,309 - INFO - embedding configs: use_lemma = True, include_type = True\n",
      "2018-04-25 20:18:03,310 - INFO - general configs: include_all_pobj = False, ignore_first_mention = False, filter_stop_events = True\n",
      "2018-04-25 20:18:03,311 - INFO - evaluator specific configs: use_max_score = True\n",
      "Processed: 100%|████████████████████████████████████████████████| 1027/1027 [01:07<00:00, 15.11it/s]"
     ]
    },
    {
     "name": "stdout",
     "output_type": "stream",
     "text": [
      "\n",
      "+-------------------------------------------------------------------------------+\n",
      "|                    # Cases     # Correct     Accuracy (%)      Avg # Choices  |\n",
      "+===============================================================================+\n",
      "|       All           13018         4981           38.26             12.06      |\n",
      "+-------------------------------------------------------------------------------+\n",
      "+-------------------------------------------------------------------------------+\n",
      "|    Arg Type        # Cases     # Correct     Accuracy (%)      Avg # Choices  |\n",
      "+===============================================================================+\n",
      "|      SUBJ            7759         2861           36.87             12.08      |\n",
      "|       OBJ            3110         1337           42.99             12.23      |\n",
      "|      POBJ            2149         783            36.44             11.74      |\n",
      "+-------------------------------------------------------------------------------+\n",
      "+-------------------------------------------------------------------------------+\n",
      "|       POS          # Cases     # Correct     Accuracy (%)      Avg # Choices  |\n",
      "+===============================================================================+\n",
      "|      Noun            9123         3632           39.81             11.32      |\n",
      "|     Pronoun          3585         1261           35.17             13.87      |\n",
      "|      Other           310           88            28.39             12.97      |\n",
      "+-------------------------------------------------------------------------------+\n",
      "+-------------------------------------------------------------------------------+\n",
      "|     Entity         # Cases     # Correct     Accuracy (%)      Avg # Choices  |\n",
      "|    Frequency                                                                  |\n",
      "+===============================================================================+\n",
      "|        1              8            2              25               16.62      |\n",
      "|        2             4119         1592           38.65             11.22      |\n",
      "|        3             2003         777            38.79             11.16      |\n",
      "|        4             1335         524            39.25             11.25      |\n",
      "|        5             1027         386            37.59             12.09      |\n",
      "|        6             637          278            43.64             11.70      |\n",
      "|        7             573          244            42.58             12.25      |\n",
      "|        8             432          139            32.18             11.92      |\n",
      "|        9             388          134            34.54             11.51      |\n",
      "|       10+            2496         905            36.26             14.73      |\n",
      "+-------------------------------------------------------------------------------+\n"
     ]
    },
    {
     "name": "stderr",
     "output_type": "stream",
     "text": [
      "\n"
     ]
    }
   ],
   "source": [
    "evaluator.set_model(EventCompositionModel.load_model(\n",
    "    join(model_path_root, '20170609/fine_tuning_full/iter_19')))\n",
    "evaluator.evaluate(on_short_scripts.scripts)"
   ]
  },
  {
   "cell_type": "markdown",
   "metadata": {},
   "source": [
    "### Evaluate EventComp-8M + Entity Salience"
   ]
  },
  {
   "cell_type": "code",
   "execution_count": 9,
   "metadata": {
    "scrolled": false
   },
   "outputs": [
    {
     "name": "stderr",
     "output_type": "stream",
     "text": [
      "2018-04-25 20:19:52,630 - INFO - loading word counts from /home/pengxiang/workspace/corpora/enwiki-20160901/event_comp_training/results/20170519/fine_tuning_full/iter_13/word2vec.vocab\n",
      "2018-04-25 20:19:52,719 - INFO - loading projection weights from /home/pengxiang/workspace/corpora/enwiki-20160901/event_comp_training/results/20170519/fine_tuning_full/iter_13/word2vec.bin\n",
      "2018-04-25 20:19:53,373 - INFO - loaded (53345, 300) matrix from /home/pengxiang/workspace/corpora/enwiki-20160901/event_comp_training/results/20170519/fine_tuning_full/iter_13/word2vec.bin\n",
      "2018-04-25 20:19:53,377 - INFO - precomputing L2-norms of word weight vectors\n",
      "2018-04-25 20:19:53,847 - INFO - set embedding model: word2vec\n",
      "2018-04-25 20:19:53,864 - INFO - evaluation based on event_composition, with embedding model word2vec\n",
      "2018-04-25 20:19:53,865 - INFO - embedding configs: use_lemma = True, include_type = True\n",
      "2018-04-25 20:19:53,866 - INFO - general configs: include_all_pobj = False, ignore_first_mention = False, filter_stop_events = True\n",
      "2018-04-25 20:19:53,867 - INFO - evaluator specific configs: use_max_score = True\n",
      "Processed: 100%|████████████████████████████████████████████████| 1027/1027 [01:09<00:00, 14.70it/s]"
     ]
    },
    {
     "name": "stdout",
     "output_type": "stream",
     "text": [
      "\n",
      "+-------------------------------------------------------------------------------+\n",
      "|                    # Cases     # Correct     Accuracy (%)      Avg # Choices  |\n",
      "+===============================================================================+\n",
      "|       All           13018         5864           45.05             12.06      |\n",
      "+-------------------------------------------------------------------------------+\n",
      "+-------------------------------------------------------------------------------+\n",
      "|    Arg Type        # Cases     # Correct     Accuracy (%)      Avg # Choices  |\n",
      "+===============================================================================+\n",
      "|      SUBJ            7759         3547           45.71             12.08      |\n",
      "|       OBJ            3110         1446           46.50             12.23      |\n",
      "|      POBJ            2149         871            40.53             11.74      |\n",
      "+-------------------------------------------------------------------------------+\n",
      "+-------------------------------------------------------------------------------+\n",
      "|       POS          # Cases     # Correct     Accuracy (%)      Avg # Choices  |\n",
      "+===============================================================================+\n",
      "|      Noun            9123         4030           44.17             11.32      |\n",
      "|     Pronoun          3585         1735           48.40             13.87      |\n",
      "|      Other           310           99            31.94             12.97      |\n",
      "+-------------------------------------------------------------------------------+\n",
      "+-------------------------------------------------------------------------------+\n",
      "|     Entity         # Cases     # Correct     Accuracy (%)      Avg # Choices  |\n",
      "|    Frequency                                                                  |\n",
      "+===============================================================================+\n",
      "|        1              8            2              25               16.62      |\n",
      "|        2             4119         1197           29.06             11.22      |\n",
      "|        3             2003         760            37.94             11.16      |\n",
      "|        4             1335         540            40.45             11.25      |\n",
      "|        5             1027         477            46.45             12.09      |\n",
      "|        6             637          331            51.96             11.70      |\n",
      "|        7             573          339            59.16             12.25      |\n",
      "|        8             432          238            55.09             11.92      |\n",
      "|        9             388          224            57.73             11.51      |\n",
      "|       10+            2496         1756           70.35             14.73      |\n",
      "+-------------------------------------------------------------------------------+\n"
     ]
    },
    {
     "name": "stderr",
     "output_type": "stream",
     "text": [
      "\n"
     ]
    }
   ],
   "source": [
    "evaluator.set_model(EventCompositionModel.load_model(\n",
    "    join(model_path_root, '20170519/fine_tuning_full/iter_13')))\n",
    "evaluator.evaluate(on_short_scripts.scripts)"
   ]
  },
  {
   "cell_type": "markdown",
   "metadata": {},
   "source": [
    "### Evaluate EventComp-8M + Entity Salience (ablation w/o first_loc feature)"
   ]
  },
  {
   "cell_type": "code",
   "execution_count": 10,
   "metadata": {
    "scrolled": false
   },
   "outputs": [
    {
     "name": "stderr",
     "output_type": "stream",
     "text": [
      "2018-04-25 20:21:19,439 - INFO - loading word counts from /home/pengxiang/workspace/corpora/enwiki-20160901/event_comp_training/results/20170727/fine_tuning_full/iter_19/word2vec.vocab\n",
      "2018-04-25 20:21:19,531 - INFO - loading projection weights from /home/pengxiang/workspace/corpora/enwiki-20160901/event_comp_training/results/20170727/fine_tuning_full/iter_19/word2vec.bin\n",
      "2018-04-25 20:21:19,985 - INFO - loaded (53345, 300) matrix from /home/pengxiang/workspace/corpora/enwiki-20160901/event_comp_training/results/20170727/fine_tuning_full/iter_19/word2vec.bin\n",
      "2018-04-25 20:21:19,989 - INFO - precomputing L2-norms of word weight vectors\n",
      "2018-04-25 20:21:20,463 - INFO - set embedding model: word2vec\n",
      "2018-04-25 20:21:20,479 - INFO - evaluation based on event_composition, with embedding model word2vec\n",
      "2018-04-25 20:21:20,480 - INFO - embedding configs: use_lemma = True, include_type = True\n",
      "2018-04-25 20:21:20,481 - INFO - general configs: include_all_pobj = False, ignore_first_mention = False, filter_stop_events = True\n",
      "2018-04-25 20:21:20,482 - INFO - evaluator specific configs: use_max_score = True\n",
      "Processed: 100%|████████████████████████████████████████████████| 1027/1027 [01:11<00:00, 14.40it/s]"
     ]
    },
    {
     "name": "stdout",
     "output_type": "stream",
     "text": [
      "\n",
      "+-------------------------------------------------------------------------------+\n",
      "|                    # Cases     # Correct     Accuracy (%)      Avg # Choices  |\n",
      "+===============================================================================+\n",
      "|       All           13018         5943           45.65             12.06      |\n",
      "+-------------------------------------------------------------------------------+\n",
      "+-------------------------------------------------------------------------------+\n",
      "|    Arg Type        # Cases     # Correct     Accuracy (%)      Avg # Choices  |\n",
      "+===============================================================================+\n",
      "|      SUBJ            7759         3591           46.28             12.08      |\n",
      "|       OBJ            3110         1485           47.75             12.23      |\n",
      "|      POBJ            2149         867            40.34             11.74      |\n",
      "+-------------------------------------------------------------------------------+\n",
      "+-------------------------------------------------------------------------------+\n",
      "|       POS          # Cases     # Correct     Accuracy (%)      Avg # Choices  |\n",
      "+===============================================================================+\n",
      "|      Noun            9123         4097           44.91             11.32      |\n",
      "|     Pronoun          3585         1748           48.76             13.87      |\n",
      "|      Other           310           98            31.61             12.97      |\n",
      "+-------------------------------------------------------------------------------+\n",
      "+-------------------------------------------------------------------------------+\n",
      "|     Entity         # Cases     # Correct     Accuracy (%)      Avg # Choices  |\n",
      "|    Frequency                                                                  |\n",
      "+===============================================================================+\n",
      "|        1              8            0               0               16.62      |\n",
      "|        2             4119         1280           31.08             11.22      |\n",
      "|        3             2003         819            40.89             11.16      |\n",
      "|        4             1335         576            43.15             11.25      |\n",
      "|        5             1027         487            47.42             12.09      |\n",
      "|        6             637          318            49.92             11.70      |\n",
      "|        7             573          329            57.42             12.25      |\n",
      "|        8             432          237            54.86             11.92      |\n",
      "|        9             388          231            59.54             11.51      |\n",
      "|       10+            2496         1666           66.75             14.73      |\n",
      "+-------------------------------------------------------------------------------+\n"
     ]
    },
    {
     "name": "stderr",
     "output_type": "stream",
     "text": [
      "\n"
     ]
    }
   ],
   "source": [
    "evaluator.set_model(EventCompositionModel.load_model(\n",
    "    join(model_path_root, '20170727/fine_tuning_full/iter_19')))\n",
    "evaluator.evaluate(on_short_scripts.scripts)"
   ]
  },
  {
   "cell_type": "markdown",
   "metadata": {},
   "source": [
    "### Evaluate EventComp-8M + Entity Salience (ablation w/o head_count feature)"
   ]
  },
  {
   "cell_type": "code",
   "execution_count": 11,
   "metadata": {
    "scrolled": false
   },
   "outputs": [
    {
     "name": "stderr",
     "output_type": "stream",
     "text": [
      "2018-04-25 20:22:31,842 - INFO - loading word counts from /home/pengxiang/workspace/corpora/enwiki-20160901/event_comp_training/results/20170729/fine_tuning_full/iter_19/word2vec.vocab\n",
      "2018-04-25 20:22:31,935 - INFO - loading projection weights from /home/pengxiang/workspace/corpora/enwiki-20160901/event_comp_training/results/20170729/fine_tuning_full/iter_19/word2vec.bin\n",
      "2018-04-25 20:22:32,390 - INFO - loaded (53345, 300) matrix from /home/pengxiang/workspace/corpora/enwiki-20160901/event_comp_training/results/20170729/fine_tuning_full/iter_19/word2vec.bin\n",
      "2018-04-25 20:22:32,395 - INFO - precomputing L2-norms of word weight vectors\n",
      "2018-04-25 20:22:32,872 - INFO - set embedding model: word2vec\n",
      "2018-04-25 20:22:32,889 - INFO - evaluation based on event_composition, with embedding model word2vec\n",
      "2018-04-25 20:22:32,890 - INFO - embedding configs: use_lemma = True, include_type = True\n",
      "2018-04-25 20:22:32,892 - INFO - general configs: include_all_pobj = False, ignore_first_mention = False, filter_stop_events = True\n",
      "2018-04-25 20:22:32,893 - INFO - evaluator specific configs: use_max_score = True\n",
      "Processed: 100%|████████████████████████████████████████████████| 1027/1027 [01:13<00:00, 14.00it/s]"
     ]
    },
    {
     "name": "stdout",
     "output_type": "stream",
     "text": [
      "\n",
      "+-------------------------------------------------------------------------------+\n",
      "|                    # Cases     # Correct     Accuracy (%)      Avg # Choices  |\n",
      "+===============================================================================+\n",
      "|       All           13018         5950           45.71             12.06      |\n",
      "+-------------------------------------------------------------------------------+\n",
      "+-------------------------------------------------------------------------------+\n",
      "|    Arg Type        # Cases     # Correct     Accuracy (%)      Avg # Choices  |\n",
      "+===============================================================================+\n",
      "|      SUBJ            7759         3608           46.50             12.08      |\n",
      "|       OBJ            3110         1507           48.46             12.23      |\n",
      "|      POBJ            2149         835            38.86             11.74      |\n",
      "+-------------------------------------------------------------------------------+\n",
      "+-------------------------------------------------------------------------------+\n",
      "|       POS          # Cases     # Correct     Accuracy (%)      Avg # Choices  |\n",
      "+===============================================================================+\n",
      "|      Noun            9123         4096           44.90             11.32      |\n",
      "|     Pronoun          3585         1753           48.90             13.87      |\n",
      "|      Other           310          101            32.58             12.97      |\n",
      "+-------------------------------------------------------------------------------+\n",
      "+-------------------------------------------------------------------------------+\n",
      "|     Entity         # Cases     # Correct     Accuracy (%)      Avg # Choices  |\n",
      "|    Frequency                                                                  |\n",
      "+===============================================================================+\n",
      "|        1              8            1             12.50             16.62      |\n",
      "|        2             4119         1219           29.59             11.22      |\n",
      "|        3             2003         790            39.44             11.16      |\n",
      "|        4             1335         556            41.65             11.25      |\n",
      "|        5             1027         476            46.35             12.09      |\n",
      "|        6             637          337            52.90             11.70      |\n",
      "|        7             573          349            60.91             12.25      |\n",
      "|        8             432          239            55.32             11.92      |\n",
      "|        9             388          233            60.05             11.51      |\n",
      "|       10+            2496         1750           70.11             14.73      |\n",
      "+-------------------------------------------------------------------------------+\n"
     ]
    },
    {
     "name": "stderr",
     "output_type": "stream",
     "text": [
      "\n"
     ]
    }
   ],
   "source": [
    "evaluator.set_model(EventCompositionModel.load_model(\n",
    "    join(model_path_root, '20170729/fine_tuning_full/iter_19')))\n",
    "evaluator.evaluate(on_short_scripts.scripts)"
   ]
  },
  {
   "cell_type": "markdown",
   "metadata": {},
   "source": [
    "### Evaluate EventComp-8M + Entity Salience (ablation w/o num_mentions feature)"
   ]
  },
  {
   "cell_type": "code",
   "execution_count": 12,
   "metadata": {
    "scrolled": false
   },
   "outputs": [
    {
     "name": "stderr",
     "output_type": "stream",
     "text": [
      "2018-04-25 20:23:46,252 - INFO - loading word counts from /home/pengxiang/workspace/corpora/enwiki-20160901/event_comp_training/results/20170730/fine_tuning_full/iter_19/word2vec.vocab\n",
      "2018-04-25 20:23:46,345 - INFO - loading projection weights from /home/pengxiang/workspace/corpora/enwiki-20160901/event_comp_training/results/20170730/fine_tuning_full/iter_19/word2vec.bin\n",
      "2018-04-25 20:23:47,001 - INFO - loaded (53345, 300) matrix from /home/pengxiang/workspace/corpora/enwiki-20160901/event_comp_training/results/20170730/fine_tuning_full/iter_19/word2vec.bin\n",
      "2018-04-25 20:23:47,006 - INFO - precomputing L2-norms of word weight vectors\n",
      "2018-04-25 20:23:47,480 - INFO - set embedding model: word2vec\n",
      "2018-04-25 20:23:47,498 - INFO - evaluation based on event_composition, with embedding model word2vec\n",
      "2018-04-25 20:23:47,500 - INFO - embedding configs: use_lemma = True, include_type = True\n",
      "2018-04-25 20:23:47,501 - INFO - general configs: include_all_pobj = False, ignore_first_mention = False, filter_stop_events = True\n",
      "2018-04-25 20:23:47,502 - INFO - evaluator specific configs: use_max_score = True\n",
      "Processed: 100%|████████████████████████████████████████████████| 1027/1027 [01:10<00:00, 14.57it/s]"
     ]
    },
    {
     "name": "stdout",
     "output_type": "stream",
     "text": [
      "\n",
      "+-------------------------------------------------------------------------------+\n",
      "|                    # Cases     # Correct     Accuracy (%)      Avg # Choices  |\n",
      "+===============================================================================+\n",
      "|       All           13018         5080           39.02             12.06      |\n",
      "+-------------------------------------------------------------------------------+\n",
      "+-------------------------------------------------------------------------------+\n",
      "|    Arg Type        # Cases     # Correct     Accuracy (%)      Avg # Choices  |\n",
      "+===============================================================================+\n",
      "|      SUBJ            7759         2976           38.36             12.08      |\n",
      "|       OBJ            3110         1373           44.15             12.23      |\n",
      "|      POBJ            2149         731            34.02             11.74      |\n",
      "+-------------------------------------------------------------------------------+\n",
      "+-------------------------------------------------------------------------------+\n",
      "|       POS          # Cases     # Correct     Accuracy (%)      Avg # Choices  |\n",
      "+===============================================================================+\n",
      "|      Noun            9123         3654           40.05             11.32      |\n",
      "|     Pronoun          3585         1341           37.41             13.87      |\n",
      "|      Other           310           85            27.42             12.97      |\n",
      "+-------------------------------------------------------------------------------+\n",
      "+-------------------------------------------------------------------------------+\n",
      "|     Entity         # Cases     # Correct     Accuracy (%)      Avg # Choices  |\n",
      "|    Frequency                                                                  |\n",
      "+===============================================================================+\n",
      "|        1              8            3             37.50             16.62      |\n",
      "|        2             4119         1510           36.66             11.22      |\n",
      "|        3             2003         770            38.44             11.16      |\n",
      "|        4             1335         503            37.68             11.25      |\n",
      "|        5             1027         380            37.00             12.09      |\n",
      "|        6             637          273            42.86             11.70      |\n",
      "|        7             573          252            43.98             12.25      |\n",
      "|        8             432          143            33.10             11.92      |\n",
      "|        9             388          154            39.69             11.51      |\n",
      "|       10+            2496         1092           43.75             14.73      |\n",
      "+-------------------------------------------------------------------------------+\n"
     ]
    },
    {
     "name": "stderr",
     "output_type": "stream",
     "text": [
      "\n"
     ]
    }
   ],
   "source": [
    "evaluator.set_model(EventCompositionModel.load_model(\n",
    "    join(model_path_root, '20170730/fine_tuning_full/iter_19')))\n",
    "evaluator.evaluate(on_short_scripts.scripts)"
   ]
  },
  {
   "cell_type": "markdown",
   "metadata": {},
   "source": [
    "### Evaluate EventComp-40M"
   ]
  },
  {
   "cell_type": "code",
   "execution_count": 13,
   "metadata": {
    "scrolled": false
   },
   "outputs": [
    {
     "name": "stderr",
     "output_type": "stream",
     "text": [
      "2018-04-25 20:24:58,009 - INFO - loading word counts from /home/pengxiang/workspace/corpora/enwiki-20160901/event_comp_training/results/20170611/fine_tuning_full/iter_19/word2vec.vocab\n",
      "2018-04-25 20:24:58,178 - INFO - loading projection weights from /home/pengxiang/workspace/corpora/enwiki-20160901/event_comp_training/results/20170611/fine_tuning_full/iter_19/word2vec.bin\n",
      "2018-04-25 20:24:58,654 - INFO - loaded (53345, 300) matrix from /home/pengxiang/workspace/corpora/enwiki-20160901/event_comp_training/results/20170611/fine_tuning_full/iter_19/word2vec.bin\n",
      "2018-04-25 20:24:58,659 - INFO - precomputing L2-norms of word weight vectors\n",
      "2018-04-25 20:24:59,229 - INFO - set embedding model: word2vec\n",
      "2018-04-25 20:24:59,247 - INFO - evaluation based on event_composition, with embedding model word2vec\n",
      "2018-04-25 20:24:59,248 - INFO - embedding configs: use_lemma = True, include_type = True\n",
      "2018-04-25 20:24:59,249 - INFO - general configs: include_all_pobj = False, ignore_first_mention = False, filter_stop_events = True\n",
      "2018-04-25 20:24:59,250 - INFO - evaluator specific configs: use_max_score = True\n",
      "Processed: 100%|████████████████████████████████████████████████| 1027/1027 [01:07<00:00, 15.24it/s]"
     ]
    },
    {
     "name": "stdout",
     "output_type": "stream",
     "text": [
      "\n",
      "+-------------------------------------------------------------------------------+\n",
      "|                    # Cases     # Correct     Accuracy (%)      Avg # Choices  |\n",
      "+===============================================================================+\n",
      "|       All           13018         5453           41.89             12.06      |\n",
      "+-------------------------------------------------------------------------------+\n",
      "+-------------------------------------------------------------------------------+\n",
      "|    Arg Type        # Cases     # Correct     Accuracy (%)      Avg # Choices  |\n",
      "+===============================================================================+\n",
      "|      SUBJ            7759         3135           40.40             12.08      |\n",
      "|       OBJ            3110         1504           48.36             12.23      |\n",
      "|      POBJ            2149         814            37.88             11.74      |\n",
      "+-------------------------------------------------------------------------------+\n",
      "+-------------------------------------------------------------------------------+\n",
      "|       POS          # Cases     # Correct     Accuracy (%)      Avg # Choices  |\n",
      "+===============================================================================+\n",
      "|      Noun            9123         3901           42.76             11.32      |\n",
      "|     Pronoun          3585         1440           40.17             13.87      |\n",
      "|      Other           310          112            36.13             12.97      |\n",
      "+-------------------------------------------------------------------------------+\n",
      "+-------------------------------------------------------------------------------+\n",
      "|     Entity         # Cases     # Correct     Accuracy (%)      Avg # Choices  |\n",
      "|    Frequency                                                                  |\n",
      "+===============================================================================+\n",
      "|        1              8            2              25               16.62      |\n",
      "|        2             4119         1643           39.89             11.22      |\n",
      "|        3             2003         817            40.79             11.16      |\n",
      "|        4             1335         548            41.05             11.25      |\n",
      "|        5             1027         417            40.60             12.09      |\n",
      "|        6             637          303            47.57             11.70      |\n",
      "|        7             573          267            46.60             12.25      |\n",
      "|        8             432          176            40.74             11.92      |\n",
      "|        9             388          148            38.14             11.51      |\n",
      "|       10+            2496         1132           45.35             14.73      |\n",
      "+-------------------------------------------------------------------------------+\n"
     ]
    },
    {
     "name": "stderr",
     "output_type": "stream",
     "text": [
      "\n"
     ]
    }
   ],
   "source": [
    "evaluator.set_model(EventCompositionModel.load_model(\n",
    "    join(model_path_root, '20170611/fine_tuning_full/iter_19')))\n",
    "evaluator.evaluate(on_short_scripts.scripts)"
   ]
  },
  {
   "cell_type": "markdown",
   "metadata": {},
   "source": [
    "### Evaluate EventComp-40M + Entity Salience"
   ]
  },
  {
   "cell_type": "code",
   "execution_count": 14,
   "metadata": {
    "scrolled": false
   },
   "outputs": [
    {
     "name": "stderr",
     "output_type": "stream",
     "text": [
      "2018-04-25 20:26:06,663 - INFO - loading word counts from /home/pengxiang/workspace/corpora/enwiki-20160901/event_comp_training/results/20170530/fine_tuning_full/iter_19/word2vec.vocab\n",
      "2018-04-25 20:26:06,834 - INFO - loading projection weights from /home/pengxiang/workspace/corpora/enwiki-20160901/event_comp_training/results/20170530/fine_tuning_full/iter_19/word2vec.bin\n",
      "2018-04-25 20:26:07,367 - INFO - loaded (53345, 300) matrix from /home/pengxiang/workspace/corpora/enwiki-20160901/event_comp_training/results/20170530/fine_tuning_full/iter_19/word2vec.bin\n",
      "2018-04-25 20:26:07,372 - INFO - precomputing L2-norms of word weight vectors\n",
      "2018-04-25 20:26:08,199 - INFO - set embedding model: word2vec\n",
      "2018-04-25 20:26:08,216 - INFO - evaluation based on event_composition, with embedding model word2vec\n",
      "2018-04-25 20:26:08,218 - INFO - embedding configs: use_lemma = True, include_type = True\n",
      "2018-04-25 20:26:08,219 - INFO - general configs: include_all_pobj = False, ignore_first_mention = False, filter_stop_events = True\n",
      "2018-04-25 20:26:08,220 - INFO - evaluator specific configs: use_max_score = True\n",
      "Processed: 100%|████████████████████████████████████████████████| 1027/1027 [01:10<00:00, 14.56it/s]"
     ]
    },
    {
     "name": "stdout",
     "output_type": "stream",
     "text": [
      "\n",
      "+-------------------------------------------------------------------------------+\n",
      "|                    # Cases     # Correct     Accuracy (%)      Avg # Choices  |\n",
      "+===============================================================================+\n",
      "|       All           13018         6216           47.75             12.06      |\n",
      "+-------------------------------------------------------------------------------+\n",
      "+-------------------------------------------------------------------------------+\n",
      "|    Arg Type        # Cases     # Correct     Accuracy (%)      Avg # Choices  |\n",
      "+===============================================================================+\n",
      "|      SUBJ            7759         3712           47.84             12.08      |\n",
      "|       OBJ            3110         1601           51.48             12.23      |\n",
      "|      POBJ            2149         903            42.02             11.74      |\n",
      "+-------------------------------------------------------------------------------+\n",
      "+-------------------------------------------------------------------------------+\n",
      "|       POS          # Cases     # Correct     Accuracy (%)      Avg # Choices  |\n",
      "+===============================================================================+\n",
      "|      Noun            9123         4331           47.47             11.32      |\n",
      "|     Pronoun          3585         1780           49.65             13.87      |\n",
      "|      Other           310          105            33.87             12.97      |\n",
      "+-------------------------------------------------------------------------------+\n",
      "+-------------------------------------------------------------------------------+\n",
      "|     Entity         # Cases     # Correct     Accuracy (%)      Avg # Choices  |\n",
      "|    Frequency                                                                  |\n",
      "+===============================================================================+\n",
      "|        1              8            1             12.50             16.62      |\n",
      "|        2             4119         1372           33.31             11.22      |\n",
      "|        3             2003         833            41.59             11.16      |\n",
      "|        4             1335         595            44.57             11.25      |\n",
      "|        5             1027         511            49.76             12.09      |\n",
      "|        6             637          354            55.57             11.70      |\n",
      "|        7             573          340            59.34             12.25      |\n",
      "|        8             432          253            58.56             11.92      |\n",
      "|        9             388          220            56.70             11.51      |\n",
      "|       10+            2496         1737           69.59             14.73      |\n",
      "+-------------------------------------------------------------------------------+\n"
     ]
    },
    {
     "name": "stderr",
     "output_type": "stream",
     "text": [
      "\n"
     ]
    }
   ],
   "source": [
    "evaluator.set_model(EventCompositionModel.load_model(\n",
    "    join(model_path_root, '20170530/fine_tuning_full/iter_19')))\n",
    "evaluator.evaluate(on_short_scripts.scripts)"
   ]
  },
  {
   "cell_type": "markdown",
   "metadata": {},
   "source": [
    "## Evaluate Models on OnLong"
   ]
  },
  {
   "cell_type": "markdown",
   "metadata": {},
   "source": [
    "### Evaluate EventComp-8M"
   ]
  },
  {
   "cell_type": "code",
   "execution_count": 15,
   "metadata": {},
   "outputs": [
    {
     "name": "stderr",
     "output_type": "stream",
     "text": [
      "2018-04-25 20:28:59,766 - INFO - loading word counts from /home/pengxiang/workspace/corpora/enwiki-20160901/event_comp_training/results/20170609/fine_tuning_full/iter_19/word2vec.vocab\n",
      "2018-04-25 20:28:59,864 - INFO - loading projection weights from /home/pengxiang/workspace/corpora/enwiki-20160901/event_comp_training/results/20170609/fine_tuning_full/iter_19/word2vec.bin\n",
      "2018-04-25 20:29:00,319 - INFO - loaded (53345, 300) matrix from /home/pengxiang/workspace/corpora/enwiki-20160901/event_comp_training/results/20170609/fine_tuning_full/iter_19/word2vec.bin\n",
      "2018-04-25 20:29:00,323 - INFO - precomputing L2-norms of word weight vectors\n",
      "2018-04-25 20:29:00,799 - INFO - set embedding model: word2vec\n",
      "2018-04-25 20:29:00,815 - INFO - evaluation based on event_composition, with embedding model word2vec\n",
      "2018-04-25 20:29:00,817 - INFO - embedding configs: use_lemma = True, include_type = True\n",
      "2018-04-25 20:29:00,818 - INFO - general configs: include_all_pobj = False, ignore_first_mention = False, filter_stop_events = True\n",
      "2018-04-25 20:29:00,819 - INFO - evaluator specific configs: use_max_score = True\n",
      "Processed: 100%|██████████████████████████████████████████████████| 597/597 [05:21<00:00,  1.86it/s]"
     ]
    },
    {
     "name": "stdout",
     "output_type": "stream",
     "text": [
      "\n",
      "+-------------------------------------------------------------------------------+\n",
      "|                    # Cases     # Correct     Accuracy (%)      Avg # Choices  |\n",
      "+===============================================================================+\n",
      "|       All           18208         3421           18.79             36.95      |\n",
      "+-------------------------------------------------------------------------------+\n",
      "+-------------------------------------------------------------------------------+\n",
      "|    Arg Type        # Cases     # Correct     Accuracy (%)      Avg # Choices  |\n",
      "+===============================================================================+\n",
      "|      SUBJ           11663         2236           19.17             35.73      |\n",
      "|       OBJ            4349         777            17.87             38.69      |\n",
      "|      POBJ            2196         408            18.58             40.00      |\n",
      "+-------------------------------------------------------------------------------+\n",
      "+-------------------------------------------------------------------------------+\n",
      "|       POS          # Cases     # Correct     Accuracy (%)      Avg # Choices  |\n",
      "+===============================================================================+\n",
      "|      Noun           13374         2544           19.02             36.68      |\n",
      "|     Pronoun          4387         799            18.21             36.80      |\n",
      "|      Other           447           78            17.45             46.56      |\n",
      "+-------------------------------------------------------------------------------+\n",
      "+-------------------------------------------------------------------------------+\n",
      "|     Entity         # Cases     # Correct     Accuracy (%)      Avg # Choices  |\n",
      "|    Frequency                                                                  |\n",
      "+===============================================================================+\n",
      "|        1              1            0               0                28        |\n",
      "|        2             6033         979            16.23             39.83      |\n",
      "|        3             2631         490            18.62             35.11      |\n",
      "|        4             1710         323            18.89             36.58      |\n",
      "|        5             1142         234            20.49             36.59      |\n",
      "|        6             888          210            23.65             29.66      |\n",
      "|        7             625          138            22.08             32.45      |\n",
      "|        8             507           88            17.36             33.42      |\n",
      "|        9             488          112            22.95             31.60      |\n",
      "|       10+            4183         847            20.25             37.48      |\n",
      "+-------------------------------------------------------------------------------+\n"
     ]
    },
    {
     "name": "stderr",
     "output_type": "stream",
     "text": [
      "\n"
     ]
    }
   ],
   "source": [
    "evaluator.set_model(EventCompositionModel.load_model(\n",
    "    join(model_path_root, '20170609/fine_tuning_full/iter_19')))\n",
    "evaluator.evaluate(on_long_scripts.scripts)"
   ]
  },
  {
   "cell_type": "markdown",
   "metadata": {},
   "source": [
    "### Evaluate EventComp-8M + Entity Salience"
   ]
  },
  {
   "cell_type": "code",
   "execution_count": 16,
   "metadata": {
    "scrolled": false
   },
   "outputs": [
    {
     "name": "stderr",
     "output_type": "stream",
     "text": [
      "2018-04-25 20:34:22,471 - INFO - loading word counts from /home/pengxiang/workspace/corpora/enwiki-20160901/event_comp_training/results/20170519/fine_tuning_full/iter_13/word2vec.vocab\n",
      "2018-04-25 20:34:22,559 - INFO - loading projection weights from /home/pengxiang/workspace/corpora/enwiki-20160901/event_comp_training/results/20170519/fine_tuning_full/iter_13/word2vec.bin\n",
      "2018-04-25 20:34:23,018 - INFO - loaded (53345, 300) matrix from /home/pengxiang/workspace/corpora/enwiki-20160901/event_comp_training/results/20170519/fine_tuning_full/iter_13/word2vec.bin\n",
      "2018-04-25 20:34:23,022 - INFO - precomputing L2-norms of word weight vectors\n",
      "2018-04-25 20:34:23,712 - INFO - set embedding model: word2vec\n",
      "2018-04-25 20:34:23,727 - INFO - evaluation based on event_composition, with embedding model word2vec\n",
      "2018-04-25 20:34:23,728 - INFO - embedding configs: use_lemma = True, include_type = True\n",
      "2018-04-25 20:34:23,729 - INFO - general configs: include_all_pobj = False, ignore_first_mention = False, filter_stop_events = True\n",
      "2018-04-25 20:34:23,730 - INFO - evaluator specific configs: use_max_score = True\n",
      "Processed: 100%|██████████████████████████████████████████████████| 597/597 [05:41<00:00,  1.75it/s]"
     ]
    },
    {
     "name": "stdout",
     "output_type": "stream",
     "text": [
      "\n",
      "+-------------------------------------------------------------------------------+\n",
      "|                    # Cases     # Correct     Accuracy (%)      Avg # Choices  |\n",
      "+===============================================================================+\n",
      "|       All           18208         4776           26.23             36.95      |\n",
      "+-------------------------------------------------------------------------------+\n",
      "+-------------------------------------------------------------------------------+\n",
      "|    Arg Type        # Cases     # Correct     Accuracy (%)      Avg # Choices  |\n",
      "+===============================================================================+\n",
      "|      SUBJ           11663         3336           28.60             35.73      |\n",
      "|       OBJ            4349         1000           22.99             38.69      |\n",
      "|      POBJ            2196         440            20.04             40.00      |\n",
      "+-------------------------------------------------------------------------------+\n",
      "+-------------------------------------------------------------------------------+\n",
      "|       POS          # Cases     # Correct     Accuracy (%)      Avg # Choices  |\n",
      "+===============================================================================+\n",
      "|      Noun           13374         3307           24.73             36.68      |\n",
      "|     Pronoun          4387         1393           31.75             36.80      |\n",
      "|      Other           447           76            17.00             46.56      |\n",
      "+-------------------------------------------------------------------------------+\n",
      "+-------------------------------------------------------------------------------+\n",
      "|     Entity         # Cases     # Correct     Accuracy (%)      Avg # Choices  |\n",
      "|    Frequency                                                                  |\n",
      "+===============================================================================+\n",
      "|        1              1            1              100               28        |\n",
      "|        2             6033         597            9.90              39.83      |\n",
      "|        3             2631         413            15.70             35.11      |\n",
      "|        4             1710         350            20.47             36.58      |\n",
      "|        5             1142         254            22.24             36.59      |\n",
      "|        6             888          260            29.28             29.66      |\n",
      "|        7             625          171            27.36             32.45      |\n",
      "|        8             507          165            32.54             33.42      |\n",
      "|        9             488          197            40.37             31.60      |\n",
      "|       10+            4183         2368           56.61             37.48      |\n",
      "+-------------------------------------------------------------------------------+\n"
     ]
    },
    {
     "name": "stderr",
     "output_type": "stream",
     "text": [
      "\n"
     ]
    }
   ],
   "source": [
    "evaluator.set_model(EventCompositionModel.load_model(\n",
    "    join(model_path_root, '20170519/fine_tuning_full/iter_13')))\n",
    "evaluator.evaluate(on_long_scripts.scripts)"
   ]
  },
  {
   "cell_type": "markdown",
   "metadata": {},
   "source": [
    "### Evaluate EventComp-40M"
   ]
  },
  {
   "cell_type": "code",
   "execution_count": 17,
   "metadata": {
    "scrolled": false
   },
   "outputs": [
    {
     "name": "stderr",
     "output_type": "stream",
     "text": [
      "2018-04-25 20:40:05,511 - INFO - loading word counts from /home/pengxiang/workspace/corpora/enwiki-20160901/event_comp_training/results/20170611/fine_tuning_full/iter_19/word2vec.vocab\n",
      "2018-04-25 20:40:05,608 - INFO - loading projection weights from /home/pengxiang/workspace/corpora/enwiki-20160901/event_comp_training/results/20170611/fine_tuning_full/iter_19/word2vec.bin\n",
      "2018-04-25 20:40:06,082 - INFO - loaded (53345, 300) matrix from /home/pengxiang/workspace/corpora/enwiki-20160901/event_comp_training/results/20170611/fine_tuning_full/iter_19/word2vec.bin\n",
      "2018-04-25 20:40:06,087 - INFO - precomputing L2-norms of word weight vectors\n",
      "2018-04-25 20:40:06,583 - INFO - set embedding model: word2vec\n",
      "2018-04-25 20:40:06,600 - INFO - evaluation based on event_composition, with embedding model word2vec\n",
      "2018-04-25 20:40:06,601 - INFO - embedding configs: use_lemma = True, include_type = True\n",
      "2018-04-25 20:40:06,602 - INFO - general configs: include_all_pobj = False, ignore_first_mention = False, filter_stop_events = True\n",
      "2018-04-25 20:40:06,603 - INFO - evaluator specific configs: use_max_score = True\n",
      "Processed: 100%|██████████████████████████████████████████████████| 597/597 [05:22<00:00,  1.85it/s]"
     ]
    },
    {
     "name": "stdout",
     "output_type": "stream",
     "text": [
      "\n",
      "+-------------------------------------------------------------------------------+\n",
      "|                    # Cases     # Correct     Accuracy (%)      Avg # Choices  |\n",
      "+===============================================================================+\n",
      "|       All           18208         3968           21.79             36.95      |\n",
      "+-------------------------------------------------------------------------------+\n",
      "+-------------------------------------------------------------------------------+\n",
      "|    Arg Type        # Cases     # Correct     Accuracy (%)      Avg # Choices  |\n",
      "+===============================================================================+\n",
      "|      SUBJ           11663         2578           22.10             35.73      |\n",
      "|       OBJ            4349         993            22.83             38.69      |\n",
      "|      POBJ            2196         397            18.08             40.00      |\n",
      "+-------------------------------------------------------------------------------+\n",
      "+-------------------------------------------------------------------------------+\n",
      "|       POS          # Cases     # Correct     Accuracy (%)      Avg # Choices  |\n",
      "+===============================================================================+\n",
      "|      Noun           13374         2935           21.95             36.68      |\n",
      "|     Pronoun          4387         938            21.38             36.80      |\n",
      "|      Other           447           95            21.25             46.56      |\n",
      "+-------------------------------------------------------------------------------+\n",
      "+-------------------------------------------------------------------------------+\n",
      "|     Entity         # Cases     # Correct     Accuracy (%)      Avg # Choices  |\n",
      "|    Frequency                                                                  |\n",
      "+===============================================================================+\n",
      "|        1              1            0               0                28        |\n",
      "|        2             6033         1140           18.90             39.83      |\n",
      "|        3             2631         555            21.09             35.11      |\n",
      "|        4             1710         374            21.87             36.58      |\n",
      "|        5             1142         264            23.12             36.59      |\n",
      "|        6             888          214            24.10             29.66      |\n",
      "|        7             625          176            28.16             32.45      |\n",
      "|        8             507          113            22.29             33.42      |\n",
      "|        9             488          134            27.46             31.60      |\n",
      "|       10+            4183         998            23.86             37.48      |\n",
      "+-------------------------------------------------------------------------------+\n"
     ]
    },
    {
     "name": "stderr",
     "output_type": "stream",
     "text": [
      "\n"
     ]
    }
   ],
   "source": [
    "evaluator.set_model(EventCompositionModel.load_model(\n",
    "    join(model_path_root, '20170611/fine_tuning_full/iter_19')))\n",
    "evaluator.evaluate(on_long_scripts.scripts)"
   ]
  },
  {
   "cell_type": "markdown",
   "metadata": {},
   "source": [
    "### Evaluate EventComp-40M + Entity Salience"
   ]
  },
  {
   "cell_type": "code",
   "execution_count": 18,
   "metadata": {
    "scrolled": false
   },
   "outputs": [
    {
     "name": "stderr",
     "output_type": "stream",
     "text": [
      "2018-04-25 20:45:29,155 - INFO - loading word counts from /home/pengxiang/workspace/corpora/enwiki-20160901/event_comp_training/results/20170530/fine_tuning_full/iter_19/word2vec.vocab\n",
      "2018-04-25 20:45:29,246 - INFO - loading projection weights from /home/pengxiang/workspace/corpora/enwiki-20160901/event_comp_training/results/20170530/fine_tuning_full/iter_19/word2vec.bin\n",
      "2018-04-25 20:45:29,900 - INFO - loaded (53345, 300) matrix from /home/pengxiang/workspace/corpora/enwiki-20160901/event_comp_training/results/20170530/fine_tuning_full/iter_19/word2vec.bin\n",
      "2018-04-25 20:45:29,904 - INFO - precomputing L2-norms of word weight vectors\n",
      "2018-04-25 20:45:30,373 - INFO - set embedding model: word2vec\n",
      "2018-04-25 20:45:30,389 - INFO - evaluation based on event_composition, with embedding model word2vec\n",
      "2018-04-25 20:45:30,390 - INFO - embedding configs: use_lemma = True, include_type = True\n",
      "2018-04-25 20:45:30,392 - INFO - general configs: include_all_pobj = False, ignore_first_mention = False, filter_stop_events = True\n",
      "2018-04-25 20:45:30,393 - INFO - evaluator specific configs: use_max_score = True\n",
      "Processed: 100%|██████████████████████████████████████████████████| 597/597 [05:40<00:00,  1.75it/s]"
     ]
    },
    {
     "name": "stdout",
     "output_type": "stream",
     "text": [
      "\n",
      "+-------------------------------------------------------------------------------+\n",
      "|                    # Cases     # Correct     Accuracy (%)      Avg # Choices  |\n",
      "+===============================================================================+\n",
      "|       All           18208         5075           27.87             36.95      |\n",
      "+-------------------------------------------------------------------------------+\n",
      "+-------------------------------------------------------------------------------+\n",
      "|    Arg Type        # Cases     # Correct     Accuracy (%)      Avg # Choices  |\n",
      "+===============================================================================+\n",
      "|      SUBJ           11663         3432           29.43             35.73      |\n",
      "|       OBJ            4349         1145           26.33             38.69      |\n",
      "|      POBJ            2196         498            22.68             40.00      |\n",
      "+-------------------------------------------------------------------------------+\n",
      "+-------------------------------------------------------------------------------+\n",
      "|       POS          # Cases     # Correct     Accuracy (%)      Avg # Choices  |\n",
      "+===============================================================================+\n",
      "|      Noun           13374         3572           26.71             36.68      |\n",
      "|     Pronoun          4387         1421           32.39             36.80      |\n",
      "|      Other           447           82            18.34             46.56      |\n",
      "+-------------------------------------------------------------------------------+\n",
      "+-------------------------------------------------------------------------------+\n",
      "|     Entity         # Cases     # Correct     Accuracy (%)      Avg # Choices  |\n",
      "|    Frequency                                                                  |\n",
      "+===============================================================================+\n",
      "|        1              1            0               0                28        |\n",
      "|        2             6033         762            12.63             39.83      |\n",
      "|        3             2631         483            18.36             35.11      |\n",
      "|        4             1710         354            20.70             36.58      |\n",
      "|        5             1142         271            23.73             36.59      |\n",
      "|        6             888          292            32.88             29.66      |\n",
      "|        7             625          182            29.12             32.45      |\n",
      "|        8             507          172            33.93             33.42      |\n",
      "|        9             488          201            41.19             31.60      |\n",
      "|       10+            4183         2358           56.37             37.48      |\n",
      "+-------------------------------------------------------------------------------+\n"
     ]
    },
    {
     "name": "stderr",
     "output_type": "stream",
     "text": [
      "\n"
     ]
    }
   ],
   "source": [
    "evaluator.set_model(EventCompositionModel.load_model(\n",
    "    join(model_path_root, '20170530/fine_tuning_full/iter_19')))\n",
    "evaluator.evaluate(on_long_scripts.scripts)"
   ]
  }
 ],
 "metadata": {
  "kernelspec": {
   "display_name": "Python 2",
   "language": "python",
   "name": "python2"
  },
  "language_info": {
   "codemirror_mode": {
    "name": "ipython",
    "version": 2
   },
   "file_extension": ".py",
   "mimetype": "text/x-python",
   "name": "python",
   "nbconvert_exporter": "python",
   "pygments_lexer": "ipython2",
   "version": "2.7.14"
  }
 },
 "nbformat": 4,
 "nbformat_minor": 2
}
