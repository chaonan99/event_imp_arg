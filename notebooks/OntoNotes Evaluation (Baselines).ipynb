{
 "cells": [
  {
   "cell_type": "code",
   "execution_count": 1,
   "metadata": {},
   "outputs": [],
   "source": [
    "%load_ext autoreload\n",
    "%autoreload 2"
   ]
  },
  {
   "cell_type": "code",
   "execution_count": 2,
   "metadata": {},
   "outputs": [],
   "source": [
    "import sys\n",
    "from os.path import realpath\n",
    "sys.path.insert(0, realpath('../src'))"
   ]
  },
  {
   "cell_type": "markdown",
   "metadata": {},
   "source": [
    "## Load Datasets"
   ]
  },
  {
   "cell_type": "code",
   "execution_count": 3,
   "metadata": {},
   "outputs": [
    {
     "name": "stderr",
     "output_type": "stream",
     "text": [
      "2018-04-25 20:30:52,894 - INFO - 'pattern' package not found; tag filters are not available for English\n"
     ]
    }
   ],
   "source": [
    "from common.event_script import ScriptCorpus"
   ]
  },
  {
   "cell_type": "code",
   "execution_count": 4,
   "metadata": {},
   "outputs": [
    {
     "name": "stdout",
     "output_type": "stream",
     "text": [
      "Found 1027 scripts in OnShort dataset\n"
     ]
    }
   ],
   "source": [
    "with open('../data/ontonotes/on_short_scripts.txt', 'r') as fin:\n",
    "    on_short_scripts = ScriptCorpus.from_text(fin.read())\n",
    "print 'Found {} scripts in OnShort dataset'.format(on_short_scripts.num_scripts)"
   ]
  },
  {
   "cell_type": "code",
   "execution_count": 5,
   "metadata": {},
   "outputs": [
    {
     "name": "stdout",
     "output_type": "stream",
     "text": [
      "Found 597 scripts in OnLong dataset\n"
     ]
    }
   ],
   "source": [
    "with open('../data/ontonotes/on_long_scripts.txt', 'r') as fin:\n",
    "    on_long_scripts = ScriptCorpus.from_text(fin.read())\n",
    "print 'Found {} scripts in OnLong dataset'.format(on_long_scripts.num_scripts)"
   ]
  },
  {
   "cell_type": "markdown",
   "metadata": {},
   "source": [
    "## Create MostFreq Evaluator"
   ]
  },
  {
   "cell_type": "code",
   "execution_count": 6,
   "metadata": {},
   "outputs": [
    {
     "name": "stderr",
     "output_type": "stream",
     "text": [
      "2018-04-25 20:35:42,714 - INFO - loading word counts from /home/pengxiang/workspace/corpora/enwiki-20160901/word2vec/spaces/sample_1e-4_min_500/min_500_dim300vecs.vocab\n",
      "2018-04-25 20:35:42,919 - INFO - loading projection weights from /home/pengxiang/workspace/corpora/enwiki-20160901/word2vec/spaces/sample_1e-4_min_500/min_500_dim300vecs.bin\n",
      "2018-04-25 20:35:43,408 - INFO - loaded (53345, 300) matrix from /home/pengxiang/workspace/corpora/enwiki-20160901/word2vec/spaces/sample_1e-4_min_500/min_500_dim300vecs.bin\n",
      "2018-04-25 20:35:43,412 - INFO - precomputing L2-norms of word weight vectors\n",
      "2018-04-25 20:35:43,657 - INFO - set embedding model: min_500_dim300vecs\n"
     ]
    }
   ],
   "source": [
    "from os.path import join\n",
    "\n",
    "from evaluate import MostFreqEntityEvaluator\n",
    "from utils import Word2VecModel\n",
    "\n",
    "word2vec_dir = '/home/pengxiang/workspace/corpora/enwiki-20160901/word2vec/spaces/sample_1e-4_min_500'\n",
    "word2vec = Word2VecModel.load_model(\n",
    "    join(word2vec_dir, 'min_500_dim300vecs.bin'),\n",
    "    fvocab=join(word2vec_dir, 'min_500_dim300vecs.vocab'))\n",
    "\n",
    "most_freq_evaluator = MostFreqEntityEvaluator(\n",
    "    use_lemma=True, include_type=True, include_all_pobj=False, ignore_first_mention=False, filter_stop_events=True)\n",
    "\n",
    "most_freq_evaluator.set_model(word2vec)"
   ]
  },
  {
   "cell_type": "markdown",
   "metadata": {},
   "source": [
    "## Create EventWord2vec Evaluator"
   ]
  },
  {
   "cell_type": "code",
   "execution_count": 7,
   "metadata": {},
   "outputs": [
    {
     "name": "stderr",
     "output_type": "stream",
     "text": [
      "2018-04-25 20:37:40,623 - INFO - set embedding model: min_500_dim300vecs\n"
     ]
    }
   ],
   "source": [
    "from evaluate import Word2VecEvaluator\n",
    "\n",
    "word2vec_evaluator = Word2VecEvaluator(\n",
    "    use_lemma=True, include_type=True, include_all_pobj=False, ignore_first_mention=False,\n",
    "    filter_stop_events=True, use_max_score=True)\n",
    "\n",
    "word2vec_evaluator.set_model(word2vec)"
   ]
  },
  {
   "cell_type": "markdown",
   "metadata": {},
   "source": [
    "## Evaluate Baselines on OnShort"
   ]
  },
  {
   "cell_type": "code",
   "execution_count": 8,
   "metadata": {
    "scrolled": false
   },
   "outputs": [
    {
     "name": "stderr",
     "output_type": "stream",
     "text": [
      "2018-04-25 20:38:21,004 - INFO - evaluation based on most_freq_entity, with embedding model min_500_dim300vecs\n",
      "2018-04-25 20:38:21,006 - INFO - embedding configs: use_lemma = True, include_type = True\n",
      "2018-04-25 20:38:21,007 - INFO - general configs: include_all_pobj = False, ignore_first_mention = False, filter_stop_events = True\n",
      "Processed: 100%|███████████████████████████████████████████████| 1027/1027 [00:01<00:00, 901.59it/s]"
     ]
    },
    {
     "name": "stdout",
     "output_type": "stream",
     "text": [
      "\n",
      "+-------------------------------------------------------------------------------+\n",
      "|                    # Cases     # Correct     Accuracy (%)      Avg # Choices  |\n",
      "+===============================================================================+\n",
      "|       All           13018         2963           22.76             12.06      |\n",
      "+-------------------------------------------------------------------------------+\n",
      "+-------------------------------------------------------------------------------+\n",
      "|    Arg Type        # Cases     # Correct     Accuracy (%)      Avg # Choices  |\n",
      "+===============================================================================+\n",
      "|      SUBJ            7759         2097           27.03             12.08      |\n",
      "|       OBJ            3110         586            18.84             12.23      |\n",
      "|      POBJ            2149         280            13.03             11.74      |\n",
      "+-------------------------------------------------------------------------------+\n",
      "+-------------------------------------------------------------------------------+\n",
      "|       POS          # Cases     # Correct     Accuracy (%)      Avg # Choices  |\n",
      "+===============================================================================+\n",
      "|      Noun            9123         1805           19.79             11.32      |\n",
      "|     Pronoun          3585         1145           31.94             13.87      |\n",
      "|      Other           310           13            4.19              12.97      |\n",
      "+-------------------------------------------------------------------------------+\n",
      "+-------------------------------------------------------------------------------+\n",
      "|     Entity         # Cases     # Correct     Accuracy (%)      Avg # Choices  |\n",
      "|    Frequency                                                                  |\n",
      "+===============================================================================+\n",
      "|        1              8            0               0               16.62      |\n",
      "|        2             4119          0               0               11.22      |\n",
      "|        3             2003          60            3.00              11.16      |\n",
      "|        4             1335         150            11.24             11.25      |\n",
      "|        5             1027         184            17.92             12.09      |\n",
      "|        6             637          178            27.94             11.70      |\n",
      "|        7             573          252            43.98             12.25      |\n",
      "|        8             432          195            45.14             11.92      |\n",
      "|        9             388          195            50.26             11.51      |\n",
      "|       10+            2496         1749           70.07             14.73      |\n",
      "+-------------------------------------------------------------------------------+\n"
     ]
    },
    {
     "name": "stderr",
     "output_type": "stream",
     "text": [
      "\n"
     ]
    }
   ],
   "source": [
    "most_freq_evaluator.evaluate(on_short_scripts.scripts)"
   ]
  },
  {
   "cell_type": "code",
   "execution_count": 10,
   "metadata": {
    "scrolled": false
   },
   "outputs": [
    {
     "name": "stderr",
     "output_type": "stream",
     "text": [
      "2018-04-25 20:40:00,102 - INFO - evaluation based on word2vec, with embedding model min_500_dim300vecs\n",
      "2018-04-25 20:40:00,103 - INFO - embedding configs: use_lemma = True, include_type = True\n",
      "2018-04-25 20:40:00,104 - INFO - general configs: include_all_pobj = False, ignore_first_mention = False, filter_stop_events = True\n",
      "2018-04-25 20:40:00,106 - INFO - evaluator specific configs: use_max_score = True\n",
      "Processed: 100%|████████████████████████████████████████████████| 1027/1027 [00:49<00:00, 20.95it/s]"
     ]
    },
    {
     "name": "stdout",
     "output_type": "stream",
     "text": [
      "\n",
      "+-------------------------------------------------------------------------------+\n",
      "|                    # Cases     # Correct     Accuracy (%)      Avg # Choices  |\n",
      "+===============================================================================+\n",
      "|       All           13018         4991           38.34             12.06      |\n",
      "+-------------------------------------------------------------------------------+\n",
      "+-------------------------------------------------------------------------------+\n",
      "|    Arg Type        # Cases     # Correct     Accuracy (%)      Avg # Choices  |\n",
      "+===============================================================================+\n",
      "|      SUBJ            7759         3043           39.22             12.08      |\n",
      "|       OBJ            3110         1250           40.19             12.23      |\n",
      "|      POBJ            2149         698            32.48             11.74      |\n",
      "+-------------------------------------------------------------------------------+\n",
      "+-------------------------------------------------------------------------------+\n",
      "|       POS          # Cases     # Correct     Accuracy (%)      Avg # Choices  |\n",
      "+===============================================================================+\n",
      "|      Noun            9123         3413           37.41             11.32      |\n",
      "|     Pronoun          3585         1487           41.48             13.87      |\n",
      "|      Other           310           91            29.35             12.97      |\n",
      "+-------------------------------------------------------------------------------+\n",
      "+-------------------------------------------------------------------------------+\n",
      "|     Entity         # Cases     # Correct     Accuracy (%)      Avg # Choices  |\n",
      "|    Frequency                                                                  |\n",
      "+===============================================================================+\n",
      "|        1              8            2              25               16.62      |\n",
      "|        2             4119         1221           29.64             11.22      |\n",
      "|        3             2003         742            37.04             11.16      |\n",
      "|        4             1335         522            39.10             11.25      |\n",
      "|        5             1027         429            41.77             12.09      |\n",
      "|        6             637          291            45.68             11.70      |\n",
      "|        7             573          264            46.07             12.25      |\n",
      "|        8             432          170            39.35             11.92      |\n",
      "|        9             388          157            40.46             11.51      |\n",
      "|       10+            2496         1193           47.80             14.73      |\n",
      "+-------------------------------------------------------------------------------+\n"
     ]
    },
    {
     "name": "stderr",
     "output_type": "stream",
     "text": [
      "\n"
     ]
    }
   ],
   "source": [
    "word2vec_evaluator.evaluate(on_short_scripts.scripts)"
   ]
  },
  {
   "cell_type": "markdown",
   "metadata": {},
   "source": [
    "## Evaluate Baselines on OnLong"
   ]
  },
  {
   "cell_type": "code",
   "execution_count": 11,
   "metadata": {},
   "outputs": [
    {
     "name": "stderr",
     "output_type": "stream",
     "text": [
      "2018-04-25 20:52:50,364 - INFO - evaluation based on most_freq_entity, with embedding model min_500_dim300vecs\n",
      "2018-04-25 20:52:50,366 - INFO - embedding configs: use_lemma = True, include_type = True\n",
      "2018-04-25 20:52:50,367 - INFO - general configs: include_all_pobj = False, ignore_first_mention = False, filter_stop_events = True\n",
      "Processed: 100%|█████████████████████████████████████████████████| 597/597 [00:02<00:00, 203.96it/s]"
     ]
    },
    {
     "name": "stdout",
     "output_type": "stream",
     "text": [
      "\n",
      "+-------------------------------------------------------------------------------+\n",
      "|                    # Cases     # Correct     Accuracy (%)      Avg # Choices  |\n",
      "+===============================================================================+\n",
      "|       All           18208         3138           17.23             36.95      |\n",
      "+-------------------------------------------------------------------------------+\n",
      "+-------------------------------------------------------------------------------+\n",
      "|    Arg Type        # Cases     # Correct     Accuracy (%)      Avg # Choices  |\n",
      "+===============================================================================+\n",
      "|      SUBJ           11663         2527           21.67             35.73      |\n",
      "|       OBJ            4349         452            10.39             38.69      |\n",
      "|      POBJ            2196         159            7.24              40.00      |\n",
      "+-------------------------------------------------------------------------------+\n",
      "+-------------------------------------------------------------------------------+\n",
      "|       POS          # Cases     # Correct     Accuracy (%)      Avg # Choices  |\n",
      "+===============================================================================+\n",
      "|      Noun           13374         1952           14.60             36.68      |\n",
      "|     Pronoun          4387         1182           26.94             36.80      |\n",
      "|      Other           447           4             0.89              46.56      |\n",
      "+-------------------------------------------------------------------------------+\n",
      "+-------------------------------------------------------------------------------+\n",
      "|     Entity         # Cases     # Correct     Accuracy (%)      Avg # Choices  |\n",
      "|    Frequency                                                                  |\n",
      "+===============================================================================+\n",
      "|        1              1            0               0                28        |\n",
      "|        2             6033          0               0               39.83      |\n",
      "|        3             2631          9             0.34              35.11      |\n",
      "|        4             1710          66            3.86              36.58      |\n",
      "|        5             1142          74            6.48              36.59      |\n",
      "|        6             888          129            14.53             29.66      |\n",
      "|        7             625          114            18.24             32.45      |\n",
      "|        8             507           89            17.55             33.42      |\n",
      "|        9             488          116            23.77             31.60      |\n",
      "|       10+            4183         2541           60.75             37.48      |\n",
      "+-------------------------------------------------------------------------------+\n"
     ]
    },
    {
     "name": "stderr",
     "output_type": "stream",
     "text": [
      "\n"
     ]
    }
   ],
   "source": [
    "most_freq_evaluator.evaluate(on_long_scripts.scripts)"
   ]
  },
  {
   "cell_type": "code",
   "execution_count": 12,
   "metadata": {
    "scrolled": false
   },
   "outputs": [
    {
     "name": "stderr",
     "output_type": "stream",
     "text": [
      "2018-04-25 20:53:02,088 - INFO - evaluation based on word2vec, with embedding model min_500_dim300vecs\n",
      "2018-04-25 20:53:02,089 - INFO - embedding configs: use_lemma = True, include_type = True\n",
      "2018-04-25 20:53:02,091 - INFO - general configs: include_all_pobj = False, ignore_first_mention = False, filter_stop_events = True\n",
      "2018-04-25 20:53:02,092 - INFO - evaluator specific configs: use_max_score = True\n",
      "Processed: 100%|██████████████████████████████████████████████████| 597/597 [09:14<00:00,  1.08it/s]"
     ]
    },
    {
     "name": "stdout",
     "output_type": "stream",
     "text": [
      "\n",
      "+-------------------------------------------------------------------------------+\n",
      "|                    # Cases     # Correct     Accuracy (%)      Avg # Choices  |\n",
      "+===============================================================================+\n",
      "|       All           18208         3927           21.57             36.95      |\n",
      "+-------------------------------------------------------------------------------+\n",
      "+-------------------------------------------------------------------------------+\n",
      "|    Arg Type        # Cases     # Correct     Accuracy (%)      Avg # Choices  |\n",
      "+===============================================================================+\n",
      "|      SUBJ           11663         2679           22.97             35.73      |\n",
      "|       OBJ            4349         878            20.19             38.69      |\n",
      "|      POBJ            2196         370            16.85             40.00      |\n",
      "+-------------------------------------------------------------------------------+\n",
      "+-------------------------------------------------------------------------------+\n",
      "|       POS          # Cases     # Correct     Accuracy (%)      Avg # Choices  |\n",
      "+===============================================================================+\n",
      "|      Noun           13374         2834           21.19             36.68      |\n",
      "|     Pronoun          4387         1026           23.39             36.80      |\n",
      "|      Other           447           67            14.99             46.56      |\n",
      "+-------------------------------------------------------------------------------+\n",
      "+-------------------------------------------------------------------------------+\n",
      "|     Entity         # Cases     # Correct     Accuracy (%)      Avg # Choices  |\n",
      "|    Frequency                                                                  |\n",
      "+===============================================================================+\n",
      "|        1              1            0               0                28        |\n",
      "|        2             6033         901            14.93             39.83      |\n",
      "|        3             2631         480            18.24             35.11      |\n",
      "|        4             1710         384            22.46             36.58      |\n",
      "|        5             1142         275            24.08             36.59      |\n",
      "|        6             888          227            25.56             29.66      |\n",
      "|        7             625          160            25.60             32.45      |\n",
      "|        8             507          144            28.40             33.42      |\n",
      "|        9             488          141            28.89             31.60      |\n",
      "|       10+            4183         1215           29.05             37.48      |\n",
      "+-------------------------------------------------------------------------------+\n"
     ]
    },
    {
     "name": "stderr",
     "output_type": "stream",
     "text": [
      "\n"
     ]
    }
   ],
   "source": [
    "word2vec_evaluator.evaluate(on_long_scripts.scripts)"
   ]
  }
 ],
 "metadata": {
  "kernelspec": {
   "display_name": "Python 2",
   "language": "python",
   "name": "python2"
  },
  "language_info": {
   "codemirror_mode": {
    "name": "ipython",
    "version": 2
   },
   "file_extension": ".py",
   "mimetype": "text/x-python",
   "name": "python",
   "nbconvert_exporter": "python",
   "pygments_lexer": "ipython2",
   "version": "2.7.14"
  }
 },
 "nbformat": 4,
 "nbformat_minor": 2
}
